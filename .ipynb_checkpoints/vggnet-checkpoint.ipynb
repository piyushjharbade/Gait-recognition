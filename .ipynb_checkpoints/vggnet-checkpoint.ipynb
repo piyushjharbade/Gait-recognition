{
 "cells": [
  {
   "cell_type": "code",
   "execution_count": 3,
   "id": "a82217a9-7520-44a7-98b0-b6e6c86086a7",
   "metadata": {},
   "outputs": [],
   "source": [
    "import torch\n",
    "import torch.nn as nn\n",
    "import torch.optim as optim\n",
    "import torch.nn.functional as F\n",
    "from torch.utils.data import DataLoader\n",
    "from torchvision import datasets, transforms"
   ]
  },
  {
   "cell_type": "markdown",
   "id": "a52af23e-5312-47c1-a702-0ef8048201dd",
   "metadata": {},
   "source": [
    "##### VGG16 = [64, 64, 'M', 128, 128, 'M', 256, 256, 256, 'M', 512, 512, 512, 'M', 512, 512, 512, 'M']\n",
    "\n",
    "##### Then flatten and 4096x4096x1000 Linear Layers"
   ]
  },
  {
   "cell_type": "code",
   "execution_count": null,
   "id": "7e69b7d4-e005-40a3-84af-5b43eff94701",
   "metadata": {},
   "outputs": [],
   "source": [
    "class VGG_net(nn.Module):\n",
    "    def __init__(self, in_channels=3, num_classes=1000):\n",
    "        super(VGG_net, self).__init__() # Call_the_base_class_constructor\n",
    "        \n",
    "    def forward(self, x)\n",
    "        pass\n",
    "\n",
    "    def create_conv_layers(self, architecture):\n",
    "        layers=[]\n",
    "        in_channels=self.in_channels\n",
    "\n",
    "        "
   ]
  }
 ],
 "metadata": {
  "kernelspec": {
   "display_name": "Python 3 (ipykernel)",
   "language": "python",
   "name": "python3"
  },
  "language_info": {
   "codemirror_mode": {
    "name": "ipython",
    "version": 3
   },
   "file_extension": ".py",
   "mimetype": "text/x-python",
   "name": "python",
   "nbconvert_exporter": "python",
   "pygments_lexer": "ipython3",
   "version": "3.12.6"
  }
 },
 "nbformat": 4,
 "nbformat_minor": 5
}
