{
 "cells": [
  {
   "cell_type": "code",
   "execution_count": 1,
   "id": "f01ce199-7e31-4ff9-be6b-2dadb7e2e4a6",
   "metadata": {},
   "outputs": [],
   "source": [
    "import torch\n",
    "import torch.nn as nn\n",
    "import torch.nn.functional as F\n",
    "import torchvision\n",
    "from torchvision import datasets, transforms\n",
    "import matplotlib.pyplot as plt\n",
    "import numpy as np\n"
   ]
  },
  {
   "cell_type": "code",
   "execution_count": 3,
   "id": "ffb6602b-a906-460d-8a16-c478472bb233",
   "metadata": {},
   "outputs": [
    {
     "name": "stdout",
     "output_type": "stream",
     "text": [
      "Mon Jan 27 16:59:23 2025       \n",
      "+-----------------------------------------------------------------------------------------+\n",
      "| NVIDIA-SMI 566.36                 Driver Version: 566.36         CUDA Version: 12.7     |\n",
      "|-----------------------------------------+------------------------+----------------------+\n",
      "| GPU  Name                  Driver-Model | Bus-Id          Disp.A | Volatile Uncorr. ECC |\n",
      "| Fan  Temp   Perf          Pwr:Usage/Cap |           Memory-Usage | GPU-Util  Compute M. |\n",
      "|                                         |                        |               MIG M. |\n",
      "|=========================================+========================+======================|\n",
      "|   0  NVIDIA GeForce GTX 1650 ...  WDDM  |   00000000:01:00.0 Off |                  N/A |\n",
      "| N/A   44C    P0             10W /   35W |       0MiB /   4096MiB |      0%      Default |\n",
      "|                                         |                        |                  N/A |\n",
      "+-----------------------------------------+------------------------+----------------------+\n",
      "                                                                                         \n",
      "+-----------------------------------------------------------------------------------------+\n",
      "| Processes:                                                                              |\n",
      "|  GPU   GI   CI        PID   Type   Process name                              GPU Memory |\n",
      "|        ID   ID                                                               Usage      |\n",
      "|=========================================================================================|\n",
      "|  No running processes found                                                             |\n",
      "+-----------------------------------------------------------------------------------------+\n"
     ]
    }
   ],
   "source": [
    "!nvidia-smi"
   ]
  },
  {
   "cell_type": "code",
   "execution_count": 4,
   "id": "bf339632-33f7-484b-aace-6a426d5908ec",
   "metadata": {},
   "outputs": [
    {
     "data": {
      "text/plain": [
       "device(type='cuda')"
      ]
     },
     "execution_count": 4,
     "metadata": {},
     "output_type": "execute_result"
    }
   ],
   "source": [
    "device = torch.device('cuda' if torch.cuda.is_available() else 'cpu')\n",
    "device"
   ]
  },
  {
   "cell_type": "code",
   "execution_count": 5,
   "id": "8794b80b-3439-4a70-8f5d-a91ff0df38c0",
   "metadata": {},
   "outputs": [],
   "source": [
    "num_epochs =4\n",
    "batch_size=4\n",
    "mu=0.001"
   ]
  },
  {
   "cell_type": "code",
   "execution_count": 6,
   "id": "a12ffa02-580f-428e-80f7-71b7d899332e",
   "metadata": {},
   "outputs": [],
   "source": [
    "transform = transforms.Compose([\n",
    "    transforms.ToTensor(),  # Convert image to tensor\n",
    "    transforms.Normalize((0.5,), (0.5,))  # Normalize to mean=0.5, std=0.5\n",
    "])"
   ]
  },
  {
   "cell_type": "code",
   "execution_count": 7,
   "id": "f8eac7bb-98d5-4bcf-98a6-0a805bd5e026",
   "metadata": {},
   "outputs": [
    {
     "name": "stdout",
     "output_type": "stream",
     "text": [
      "Downloading http://yann.lecun.com/exdb/mnist/train-images-idx3-ubyte.gz\n",
      "Failed to download (trying next):\n",
      "<urlopen error [WinError 10061] No connection could be made because the target machine actively refused it>\n",
      "\n",
      "Downloading https://ossci-datasets.s3.amazonaws.com/mnist/train-images-idx3-ubyte.gz\n",
      "Downloading https://ossci-datasets.s3.amazonaws.com/mnist/train-images-idx3-ubyte.gz to ./data\\MNIST\\raw\\train-images-idx3-ubyte.gz\n"
     ]
    },
    {
     "name": "stderr",
     "output_type": "stream",
     "text": [
      "100.0%\n"
     ]
    },
    {
     "name": "stdout",
     "output_type": "stream",
     "text": [
      "Extracting ./data\\MNIST\\raw\\train-images-idx3-ubyte.gz to ./data\\MNIST\\raw\n",
      "\n",
      "Downloading http://yann.lecun.com/exdb/mnist/train-labels-idx1-ubyte.gz\n",
      "Failed to download (trying next):\n",
      "<urlopen error [WinError 10061] No connection could be made because the target machine actively refused it>\n",
      "\n",
      "Downloading https://ossci-datasets.s3.amazonaws.com/mnist/train-labels-idx1-ubyte.gz\n",
      "Downloading https://ossci-datasets.s3.amazonaws.com/mnist/train-labels-idx1-ubyte.gz to ./data\\MNIST\\raw\\train-labels-idx1-ubyte.gz\n"
     ]
    },
    {
     "name": "stderr",
     "output_type": "stream",
     "text": [
      "100.0%\n"
     ]
    },
    {
     "name": "stdout",
     "output_type": "stream",
     "text": [
      "Extracting ./data\\MNIST\\raw\\train-labels-idx1-ubyte.gz to ./data\\MNIST\\raw\n",
      "\n",
      "Downloading http://yann.lecun.com/exdb/mnist/t10k-images-idx3-ubyte.gz\n",
      "Failed to download (trying next):\n",
      "<urlopen error [WinError 10061] No connection could be made because the target machine actively refused it>\n",
      "\n",
      "Downloading https://ossci-datasets.s3.amazonaws.com/mnist/t10k-images-idx3-ubyte.gz\n",
      "Downloading https://ossci-datasets.s3.amazonaws.com/mnist/t10k-images-idx3-ubyte.gz to ./data\\MNIST\\raw\\t10k-images-idx3-ubyte.gz\n"
     ]
    },
    {
     "name": "stderr",
     "output_type": "stream",
     "text": [
      "100.0%\n"
     ]
    },
    {
     "name": "stdout",
     "output_type": "stream",
     "text": [
      "Extracting ./data\\MNIST\\raw\\t10k-images-idx3-ubyte.gz to ./data\\MNIST\\raw\n",
      "\n",
      "Downloading http://yann.lecun.com/exdb/mnist/t10k-labels-idx1-ubyte.gz\n",
      "Failed to download (trying next):\n",
      "<urlopen error [WinError 10061] No connection could be made because the target machine actively refused it>\n",
      "\n",
      "Downloading https://ossci-datasets.s3.amazonaws.com/mnist/t10k-labels-idx1-ubyte.gz\n",
      "Downloading https://ossci-datasets.s3.amazonaws.com/mnist/t10k-labels-idx1-ubyte.gz to ./data\\MNIST\\raw\\t10k-labels-idx1-ubyte.gz\n"
     ]
    },
    {
     "name": "stderr",
     "output_type": "stream",
     "text": [
      "100.0%"
     ]
    },
    {
     "name": "stdout",
     "output_type": "stream",
     "text": [
      "Extracting ./data\\MNIST\\raw\\t10k-labels-idx1-ubyte.gz to ./data\\MNIST\\raw\n",
      "\n"
     ]
    },
    {
     "name": "stderr",
     "output_type": "stream",
     "text": [
      "\n"
     ]
    }
   ],
   "source": [
    "train_dataset = torchvision.datasets.MNIST(root='./data', train=True, download=True, transform=transform)\n",
    "test_dataset = torchvision.datasets.MNIST(root='./data', train=False, download=True, transform=transform)\n",
    "\n",
    "train_loader = torch.utils.data.DataLoader(train_dataset, batch_size=batch_size, shuffle=True)\n",
    "test_loader = torch.utils.data.DataLoader(test_dataset, batch_size=batch_size, shuffle=False)\n",
    "\n",
    "classes = ('0', '1', '2', '3', '4', '5', '6', '7', '8', '9')\n",
    "\n",
    "images, labels = next(iter(train_loader))\n",
    "\n"
   ]
  },
  {
   "cell_type": "code",
   "execution_count": 8,
   "id": "7939fd9c-4049-4369-bc52-6850d6b599bb",
   "metadata": {},
   "outputs": [
    {
     "data": {
      "text/plain": [
       "(4, tensor(-1.))"
      ]
     },
     "execution_count": 8,
     "metadata": {},
     "output_type": "execute_result"
    }
   ],
   "source": [
    "images.ndim, images[3,0,27,27]"
   ]
  },
  {
   "cell_type": "code",
   "execution_count": 9,
   "id": "6239ec3c-a142-45d9-a964-5579a77c8927",
   "metadata": {},
   "outputs": [
    {
     "data": {
      "text/plain": [
       "torch.Size([4, 1, 28, 28])"
      ]
     },
     "execution_count": 9,
     "metadata": {},
     "output_type": "execute_result"
    }
   ],
   "source": [
    "images.size() #(batchsize, number of channels, height(number of rows in the image), width(number of col in the image)"
   ]
  },
  {
   "cell_type": "code",
   "execution_count": 14,
   "id": "4934b75a-f4e8-4c50-9e04-c4df80d2f25d",
   "metadata": {},
   "outputs": [],
   "source": [
    "class ConvNet(nn.Module):\n",
    "    def __init__(self):\n",
    "        super(ConvNet, self).__init__()  # Call the base class constructor\n",
    "        self.conv1 = nn.Conv2d(1, 6, kernel_size=5, stride=1, padding=1) #(h-f+1) if padding and strides are used then {(h+2*p-f)/stride} +1\n",
    "        self.pool= nn.MaxPool2d(2, 2)# (kernelsize, stride)\n",
    "        self.conv2 = nn.Conv2d(6, 16, kernel_size=5, stride=1, padding=1)\n",
    "        self.fc1 = nn.Linear(16*4*4  , 120)\n",
    "        self.fc2 =nn.Linear(120, 80)\n",
    "        self.fc3 =nn.Linear(80, 10) #because 10 differnet classes\n",
    "        \n",
    "\n",
    "    def forward(self, x):\n",
    "        x=self.pool(F.relu(self.conv1(x)))\n",
    "        x=self.pool(F.relu(self.conv2(x)))\n",
    "        x= x.view(-1, 16*4*4)\n",
    "        x=F.relu(self.fc1(x))\n",
    "        x=F.relu(self.fc2(x))\n",
    "        x=self.fc3(x)  #no softmax for last fc3 becaue softmax is included in the loss function\n",
    "        return x\n",
    "        \n",
    "\n"
   ]
  },
  {
   "cell_type": "code",
   "execution_count": 17,
   "id": "68ef4b2b-5a06-4cee-a3a6-8997e34afc98",
   "metadata": {},
   "outputs": [
    {
     "data": {
      "image/png": "[encoded data removed]",
      "text/plain": [
       "<Figure size 640x480 with 1 Axes>"
      ]
     },
     "metadata": {},
     "output_type": "display_data"
    },
    {
     "name": "stdout",
     "output_type": "stream",
     "text": [
      "torch.Size([4, 1, 28, 28])\n",
      "torch.Size([4, 6, 26, 26])\n",
      "torch.Size([4, 6, 13, 13])\n",
      "torch.Size([4, 16, 11, 11])\n",
      "torch.Size([4, 16, 5, 5])\n"
     ]
    }
   ],
   "source": [
    "def image_show(img):\n",
    "    img=img/2 +0.5 #unnormalize\n",
    "    npimg=img.numpy()\n",
    "    plt.imshow(np.transpose(npimg, (1,2,0)))\n",
    "    plt.show()\n",
    "\n",
    "dataiter=iter(train_loader)\n",
    "images, labels = next(dataiter)\n",
    "\n",
    "image_show(torchvision.utils.make_grid(images))\n",
    "\n",
    "conv1 = nn.Conv2d(1, 6, kernel_size=5,stride=1, padding=1) #(h-f+1) if padding and strides are used then {(h+2*p-f)/stride} +1\n",
    "pool= nn.MaxPool2d(2, 2)# (kernelsize, stride)\n",
    "conv2 = nn.Conv2d(6, 16, kernel_size=5, stride=1, padding=1)\n",
    "print(images.shape)\n",
    "x=conv1(images)\n",
    "print(x.shape)\n",
    "x=pool(x)\n",
    "print(x.shape)\n",
    "x=conv2(x)\n",
    "print(x.shape)\n",
    "x=pool(x)\n",
    "print(x.shape)\n"
   ]
  },
  {
   "cell_type": "code",
   "execution_count": 12,
   "id": "00e55a06-b31d-4e47-9162-0ee5ebd7cf9b",
   "metadata": {},
   "outputs": [
    {
     "name": "stdout",
     "output_type": "stream",
     "text": [
      "Epoch [1/4], Step [2000/15000], Loss: 2.3169\n",
      "Epoch [1/4], Step [4000/15000], Loss: 2.2328\n",
      "Epoch [1/4], Step [6000/15000], Loss: 1.5834\n",
      "Epoch [1/4], Step [8000/15000], Loss: 1.3492\n",
      "Epoch [1/4], Step [10000/15000], Loss: 0.2123\n",
      "Epoch [1/4], Step [12000/15000], Loss: 0.2234\n",
      "Epoch [1/4], Step [14000/15000], Loss: 0.1234\n",
      "Epoch [2/4], Step [2000/15000], Loss: 0.1073\n",
      "Epoch [2/4], Step [4000/15000], Loss: 0.2738\n",
      "Epoch [2/4], Step [6000/15000], Loss: 0.0330\n",
      "Epoch [2/4], Step [8000/15000], Loss: 0.0279\n",
      "Epoch [2/4], Step [10000/15000], Loss: 0.0159\n",
      "Epoch [2/4], Step [12000/15000], Loss: 0.0661\n",
      "Epoch [2/4], Step [14000/15000], Loss: 0.0200\n",
      "Epoch [3/4], Step [2000/15000], Loss: 0.0914\n",
      "Epoch [3/4], Step [4000/15000], Loss: 0.0031\n",
      "Epoch [3/4], Step [6000/15000], Loss: 0.0156\n",
      "Epoch [3/4], Step [8000/15000], Loss: 0.0128\n",
      "Epoch [3/4], Step [10000/15000], Loss: 0.0054\n",
      "Epoch [3/4], Step [12000/15000], Loss: 0.0197\n",
      "Epoch [3/4], Step [14000/15000], Loss: 0.0026\n",
      "Epoch [4/4], Step [2000/15000], Loss: 0.0029\n",
      "Epoch [4/4], Step [4000/15000], Loss: 2.5771\n",
      "Epoch [4/4], Step [6000/15000], Loss: 0.0047\n",
      "Epoch [4/4], Step [8000/15000], Loss: 0.0011\n",
      "Epoch [4/4], Step [10000/15000], Loss: 0.0036\n",
      "Epoch [4/4], Step [12000/15000], Loss: 1.1350\n",
      "Epoch [4/4], Step [14000/15000], Loss: 0.0495\n",
      "Finished Training\n"
     ]
    }
   ],
   "source": [
    "model = ConvNet().to(device)\n",
    "\n",
    "criterion= nn.CrossEntropyLoss()\n",
    "optimizer=torch.optim.SGD(model.parameters(), lr=mu)\n",
    "\n",
    "n_total_steps = len(train_loader)\n",
    "for epoch in range(num_epochs):\n",
    "    for i, (images, labels) in enumerate(train_loader):\n",
    "        images=images.to(device)\n",
    "        labels=labels.to(device)\n",
    "\n",
    "        outputs = model(images)\n",
    "        loss=criterion(outputs, labels)\n",
    "\n",
    "        optimizer.zero_grad()\n",
    "        loss.backward()\n",
    "        optimizer.step()\n",
    "\n",
    "        if (i+1) % 2000 == 0:\n",
    "            print (f'Epoch [{epoch+1}/{num_epochs}], Step [{i+1}/{n_total_steps}], Loss: {loss.item():.4f}')\n",
    "\n",
    "print('Finished Training')\n",
    "PATH = './cnn.pth'\n",
    "torch.save(model.state_dict(), PATH)"
   ]
  },
  {
   "cell_type": "code",
   "execution_count": 13,
   "id": "f8d870c5-a182-4828-ac93-7102a0e53ff7",
   "metadata": {},
   "outputs": [
    {
     "name": "stdout",
     "output_type": "stream",
     "text": [
      "Accuracy of the network: 97.84 %\n",
      "Accuracy of 0: 99.08163265306122 %\n",
      "Accuracy of 1: 99.55947136563877 %\n",
      "Accuracy of 2: 97.96511627906976 %\n",
      "Accuracy of 3: 97.62376237623762 %\n",
      "Accuracy of 4: 98.06517311608961 %\n",
      "Accuracy of 5: 96.41255605381166 %\n",
      "Accuracy of 6: 98.53862212943632 %\n",
      "Accuracy of 7: 97.76264591439688 %\n",
      "Accuracy of 8: 97.53593429158111 %\n",
      "Accuracy of 9: 95.54013875123886 %\n"
     ]
    }
   ],
   "source": [
    "with torch.no_grad():\n",
    "    n_correct = 0\n",
    "    n_samples = 0\n",
    "    n_class_correct = [0 for i in range(10)]\n",
    "    n_class_samples = [0 for i in range(10)]\n",
    "    for images, labels in test_loader:\n",
    "        images = images.to(device)\n",
    "        labels = labels.to(device)\n",
    "        outputs = model(images)\n",
    "        # max returns (value ,index)\n",
    "        _, predicted = torch.max(outputs, 1)\n",
    "        n_samples += labels.size(0)\n",
    "        n_correct += (predicted == labels).sum().item()\n",
    "        \n",
    "        for i in range(batch_size):\n",
    "            label = labels[i]\n",
    "            pred = predicted[i]\n",
    "            if (label == pred):\n",
    "                n_class_correct[label] += 1\n",
    "            n_class_samples[label] += 1\n",
    "\n",
    "    acc = 100.0 * n_correct / n_samples\n",
    "    print(f'Accuracy of the network: {acc} %')\n",
    "\n",
    "    for i in range(10):\n",
    "        acc = 100.0 * n_class_correct[i] / n_class_samples[i]\n",
    "        print(f'Accuracy of {classes[i]}: {acc} %')\n"
   ]
  },
  {
   "cell_type": "code",
   "execution_count": null,
   "id": "e65fb9d4-79e9-4e32-8545-e36f92e80dd2",
   "metadata": {},
   "outputs": [],
   "source": []
  }
 ],
 "metadata": {
  "kernelspec": {
   "display_name": "Python 3 (ipykernel)",
   "language": "python",
   "name": "python3"
  },
  "language_info": {
   "codemirror_mode": {
    "name": "ipython",
    "version": 3
   },
   "file_extension": ".py",
   "mimetype": "text/x-python",
   "name": "python",
   "nbconvert_exporter": "python",
   "pygments_lexer": "ipython3",
   "version": "3.12.6"
  }
 },
 "nbformat": 4,
 "nbformat_minor": 5
}
