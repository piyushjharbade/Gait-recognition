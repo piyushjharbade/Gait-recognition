{
 "cells": [
  {
   "cell_type": "code",
   "execution_count": 102,
   "metadata": {
    "colab": {
     "base_uri": "https://localhost:8080/"
    },
    "executionInfo": {
     "elapsed": 420,
     "status": "ok",
     "timestamp": 1734118716770,
     "user": {
      "displayName": "Piyush Jharbade",
      "userId": "08295202073884817161"
     },
     "user_tz": -330
    },
    "id": "mMigAs6EnX_r",
    "outputId": "073630c4-60c2-4f5a-8ba1-6a760048ccc2"
   },
   "outputs": [
    {
     "name": "stdout",
     "output_type": "stream",
     "text": [
      "Sat Dec 28 15:09:25 2024       \n",
      "+-----------------------------------------------------------------------------------------+\n",
      "| NVIDIA-SMI 566.36                 Driver Version: 566.36         CUDA Version: 12.7     |\n",
      "|-----------------------------------------+------------------------+----------------------+\n",
      "| GPU  Name                  Driver-Model | Bus-Id          Disp.A | Volatile Uncorr. ECC |\n",
      "| Fan  Temp   Perf          Pwr:Usage/Cap |           Memory-Usage | GPU-Util  Compute M. |\n",
      "|                                         |                        |               MIG M. |\n",
      "|=========================================+========================+======================|\n",
      "|   0  NVIDIA GeForce GTX 1650 ...  WDDM  |   00000000:01:00.0 Off |                  N/A |\n",
      "| N/A   36C    P8              3W /   30W |       0MiB /   4096MiB |      0%      Default |\n",
      "|                                         |                        |                  N/A |\n",
      "+-----------------------------------------+------------------------+----------------------+\n",
      "                                                                                         \n",
      "+-----------------------------------------------------------------------------------------+\n",
      "| Processes:                                                                              |\n",
      "|  GPU   GI   CI        PID   Type   Process name                              GPU Memory |\n",
      "|        ID   ID                                                               Usage      |\n",
      "|=========================================================================================|\n",
      "|  No running processes found                                                             |\n",
      "+-----------------------------------------------------------------------------------------+\n"
     ]
    }
   ],
   "source": [
    "!nvidia-smi"
   ]
  },
  {
   "cell_type": "code",
   "execution_count": 103,
   "metadata": {
    "colab": {
     "base_uri": "https://localhost:8080/"
    },
    "executionInfo": {
     "elapsed": 10910,
     "status": "ok",
     "timestamp": 1734549208395,
     "user": {
      "displayName": "Piyush Jharbade",
      "userId": "08295202073884817161"
     },
     "user_tz": -330
    },
    "id": "hmxv8dWcsuc6",
    "outputId": "53a8fd43-6308-450d-f372-6b34a0ca0ea0"
   },
   "outputs": [
    {
     "name": "stdout",
     "output_type": "stream",
     "text": [
      "2.5.1+cu124\n"
     ]
    }
   ],
   "source": [
    "import torch\n",
    "import matplotlib.pyplot as plt\n",
    "import pandas as pd\n",
    "import numpy as np\n",
    "print(torch.__version__)\n"
   ]
  },
  {
   "cell_type": "markdown",
   "metadata": {
    "id": "55ua2fUowQ4J"
   },
   "source": [
    "#TENSORS: multidimensional data(maybe multidimensional matrix), (think of it as a data type)"
   ]
  },
  {
   "cell_type": "code",
   "execution_count": 104,
   "metadata": {
    "colab": {
     "base_uri": "https://localhost:8080/"
    },
    "executionInfo": {
     "elapsed": 398,
     "status": "ok",
     "timestamp": 1734038677099,
     "user": {
      "displayName": "Piyush Jharbade",
      "userId": "08295202073884817161"
     },
     "user_tz": -330
    },
    "id": "DgaHow_mssx-",
    "outputId": "c63388ae-14f8-4151-8b96-e38048d1af35"
   },
   "outputs": [
    {
     "data": {
      "text/plain": [
       "tensor(7)"
      ]
     },
     "execution_count": 104,
     "metadata": {},
     "output_type": "execute_result"
    }
   ],
   "source": [
    "#scalar\n",
    "scalar=torch.tensor(7)\n",
    "scalar"
   ]
  },
  {
   "cell_type": "code",
   "execution_count": 105,
   "metadata": {
    "colab": {
     "base_uri": "https://localhost:8080/"
    },
    "executionInfo": {
     "elapsed": 381,
     "status": "ok",
     "timestamp": 1734038902843,
     "user": {
      "displayName": "Piyush Jharbade",
      "userId": "08295202073884817161"
     },
     "user_tz": -330
    },
    "id": "kjhOkZLVwl-3",
    "outputId": "b75cb4f1-c86d-4bf2-c07e-c4fff624d372"
   },
   "outputs": [
    {
     "data": {
      "text/plain": [
       "0"
      ]
     },
     "execution_count": 105,
     "metadata": {},
     "output_type": "execute_result"
    }
   ],
   "source": [
    "scalar.ndim\n",
    "#gives zero because a scalar has no dimensions, it is a single number"
   ]
  },
  {
   "cell_type": "code",
   "execution_count": 106,
   "metadata": {
    "colab": {
     "base_uri": "https://localhost:8080/"
    },
    "executionInfo": {
     "elapsed": 403,
     "status": "ok",
     "timestamp": 1734038945311,
     "user": {
      "displayName": "Piyush Jharbade",
      "userId": "08295202073884817161"
     },
     "user_tz": -330
    },
    "id": "PpuLzuVyxUbM",
    "outputId": "3cea8f88-a8d6-4a43-9959-321be2d058f5"
   },
   "outputs": [
    {
     "data": {
      "text/plain": [
       "7"
      ]
     },
     "execution_count": 106,
     "metadata": {},
     "output_type": "execute_result"
    }
   ],
   "source": [
    "#Get the tensor element back as a typecasted into python int\n",
    "scalar.item()"
   ]
  },
  {
   "cell_type": "code",
   "execution_count": 107,
   "metadata": {
    "colab": {
     "base_uri": "https://localhost:8080/"
    },
    "executionInfo": {
     "elapsed": 13,
     "status": "ok",
     "timestamp": 1734039013267,
     "user": {
      "displayName": "Piyush Jharbade",
      "userId": "08295202073884817161"
     },
     "user_tz": -330
    },
    "id": "8C7Tznmpxnax",
    "outputId": "e05dc402-eace-43b2-8b34-78bcf877f4e2"
   },
   "outputs": [
    {
     "data": {
      "text/plain": [
       "tensor([7, 7])"
      ]
     },
     "execution_count": 107,
     "metadata": {},
     "output_type": "execute_result"
    }
   ],
   "source": [
    "#Vector\n",
    "vector=torch.tensor([7,7])\n",
    "vector"
   ]
  },
  {
   "cell_type": "code",
   "execution_count": 108,
   "metadata": {
    "colab": {
     "base_uri": "https://localhost:8080/"
    },
    "executionInfo": {
     "elapsed": 375,
     "status": "ok",
     "timestamp": 1734039051756,
     "user": {
      "displayName": "Piyush Jharbade",
      "userId": "08295202073884817161"
     },
     "user_tz": -330
    },
    "id": "jFXohP8Gx4Qd",
    "outputId": "bdaff709-d27d-4f96-d398-e6f9aec71bfb"
   },
   "outputs": [
    {
     "data": {
      "text/plain": [
       "1"
      ]
     },
     "execution_count": 108,
     "metadata": {},
     "output_type": "execute_result"
    }
   ],
   "source": [
    "vector.ndim"
   ]
  },
  {
   "cell_type": "code",
   "execution_count": 109,
   "metadata": {
    "colab": {
     "base_uri": "https://localhost:8080/"
    },
    "executionInfo": {
     "elapsed": 387,
     "status": "ok",
     "timestamp": 1734039101820,
     "user": {
      "displayName": "Piyush Jharbade",
      "userId": "08295202073884817161"
     },
     "user_tz": -330
    },
    "id": "WLmpHNCGyBd_",
    "outputId": "4cb49ee1-1ffe-4cba-c1f9-da4deacf990d"
   },
   "outputs": [
    {
     "data": {
      "text/plain": [
       "torch.Size([2])"
      ]
     },
     "execution_count": 109,
     "metadata": {},
     "output_type": "execute_result"
    }
   ],
   "source": [
    "vector.shape\n",
    "#returns the number of elements in the vector"
   ]
  },
  {
   "cell_type": "code",
   "execution_count": 110,
   "metadata": {
    "colab": {
     "base_uri": "https://localhost:8080/"
    },
    "executionInfo": {
     "elapsed": 379,
     "status": "ok",
     "timestamp": 1734039163221,
     "user": {
      "displayName": "Piyush Jharbade",
      "userId": "08295202073884817161"
     },
     "user_tz": -330
    },
    "id": "B2lNTwGOyDwY",
    "outputId": "465be677-cbd1-4a40-a4fa-c7e6172ed4d0"
   },
   "outputs": [
    {
     "data": {
      "text/plain": [
       "tensor([[1, 2],\n",
       "        [2, 3]])"
      ]
     },
     "execution_count": 110,
     "metadata": {},
     "output_type": "execute_result"
    }
   ],
   "source": [
    "#MATRIX\n",
    "matrix=torch.tensor([[1,2],[2,3]])\n",
    "matrix"
   ]
  },
  {
   "cell_type": "code",
   "execution_count": 111,
   "metadata": {
    "colab": {
     "base_uri": "https://localhost:8080/"
    },
    "executionInfo": {
     "elapsed": 385,
     "status": "ok",
     "timestamp": 1734039217736,
     "user": {
      "displayName": "Piyush Jharbade",
      "userId": "08295202073884817161"
     },
     "user_tz": -330
    },
    "id": "Po2N6Ealycrt",
    "outputId": "6df25839-1fa5-4c6c-ee66-0660aac9414e"
   },
   "outputs": [
    {
     "data": {
      "text/plain": [
       "torch.Size([2, 2])"
      ]
     },
     "execution_count": 111,
     "metadata": {},
     "output_type": "execute_result"
    }
   ],
   "source": [
    "matrix.shape\n",
    "#returns the general shape of the matrix, i.e. mxn"
   ]
  },
  {
   "cell_type": "code",
   "execution_count": 112,
   "metadata": {
    "colab": {
     "base_uri": "https://localhost:8080/"
    },
    "executionInfo": {
     "elapsed": 6,
     "status": "ok",
     "timestamp": 1734039225441,
     "user": {
      "displayName": "Piyush Jharbade",
      "userId": "08295202073884817161"
     },
     "user_tz": -330
    },
    "id": "3Qs-ZpJyygLK",
    "outputId": "448dbefd-99c4-47cc-a5d8-d3a8ba372ace"
   },
   "outputs": [
    {
     "data": {
      "text/plain": [
       "2"
      ]
     },
     "execution_count": 112,
     "metadata": {},
     "output_type": "execute_result"
    }
   ],
   "source": [
    "matrix.ndim"
   ]
  },
  {
   "cell_type": "code",
   "execution_count": 113,
   "metadata": {
    "colab": {
     "base_uri": "https://localhost:8080/"
    },
    "executionInfo": {
     "elapsed": 370,
     "status": "ok",
     "timestamp": 1734039239441,
     "user": {
      "displayName": "Piyush Jharbade",
      "userId": "08295202073884817161"
     },
     "user_tz": -330
    },
    "id": "cm_UTOxIyr8U",
    "outputId": "f98f9b5a-653c-44b8-d3ce-48f4d276f882"
   },
   "outputs": [
    {
     "data": {
      "text/plain": [
       "tensor([1, 2])"
      ]
     },
     "execution_count": 113,
     "metadata": {},
     "output_type": "execute_result"
    }
   ],
   "source": [
    "matrix[0]"
   ]
  },
  {
   "cell_type": "code",
   "execution_count": 114,
   "metadata": {
    "colab": {
     "base_uri": "https://localhost:8080/"
    },
    "executionInfo": {
     "elapsed": 403,
     "status": "ok",
     "timestamp": 1734039255726,
     "user": {
      "displayName": "Piyush Jharbade",
      "userId": "08295202073884817161"
     },
     "user_tz": -330
    },
    "id": "60qikX_ryvcn",
    "outputId": "c69ca208-d924-4626-8d14-f8ec33b09a21"
   },
   "outputs": [
    {
     "data": {
      "text/plain": [
       "tensor([2, 3])"
      ]
     },
     "execution_count": 114,
     "metadata": {},
     "output_type": "execute_result"
    }
   ],
   "source": [
    "matrix[1]"
   ]
  },
  {
   "cell_type": "code",
   "execution_count": 115,
   "metadata": {
    "colab": {
     "base_uri": "https://localhost:8080/"
    },
    "executionInfo": {
     "elapsed": 372,
     "status": "ok",
     "timestamp": 1734039292414,
     "user": {
      "displayName": "Piyush Jharbade",
      "userId": "08295202073884817161"
     },
     "user_tz": -330
    },
    "id": "FLOZ55Cyyzaj",
    "outputId": "f5afab14-e17f-44b4-f929-2a989f66627d"
   },
   "outputs": [
    {
     "data": {
      "text/plain": [
       "tensor(3)"
      ]
     },
     "execution_count": 115,
     "metadata": {},
     "output_type": "execute_result"
    }
   ],
   "source": [
    "matrix[1,1]"
   ]
  },
  {
   "cell_type": "code",
   "execution_count": 116,
   "metadata": {
    "colab": {
     "base_uri": "https://localhost:8080/"
    },
    "executionInfo": {
     "elapsed": 371,
     "status": "ok",
     "timestamp": 1734039449318,
     "user": {
      "displayName": "Piyush Jharbade",
      "userId": "08295202073884817161"
     },
     "user_tz": -330
    },
    "id": "fi72Dzx5y5VY",
    "outputId": "ae70c055-3e0f-4405-caf9-585029e1592e"
   },
   "outputs": [
    {
     "data": {
      "text/plain": [
       "tensor([[[1, 2, 3],\n",
       "         [4, 5, 6],\n",
       "         [7, 8, 9]]])"
      ]
     },
     "execution_count": 116,
     "metadata": {},
     "output_type": "execute_result"
    }
   ],
   "source": [
    "#TENSOR\n",
    "TENSOR= torch.tensor([[[1,2,3],[4,5,6], [7,8,9]]])\n",
    "TENSOR"
   ]
  },
  {
   "cell_type": "code",
   "execution_count": 117,
   "metadata": {
    "colab": {
     "base_uri": "https://localhost:8080/"
    },
    "executionInfo": {
     "elapsed": 415,
     "status": "ok",
     "timestamp": 1734039476616,
     "user": {
      "displayName": "Piyush Jharbade",
      "userId": "08295202073884817161"
     },
     "user_tz": -330
    },
    "id": "HEJ-Qe1zzii3",
    "outputId": "9a6c98cb-024f-4513-ae5a-3fc4a67f5e14"
   },
   "outputs": [
    {
     "data": {
      "text/plain": [
       "3"
      ]
     },
     "execution_count": 117,
     "metadata": {},
     "output_type": "execute_result"
    }
   ],
   "source": [
    "TENSOR.ndim"
   ]
  },
  {
   "cell_type": "code",
   "execution_count": 118,
   "metadata": {
    "colab": {
     "base_uri": "https://localhost:8080/"
    },
    "executionInfo": {
     "elapsed": 396,
     "status": "ok",
     "timestamp": 1734039874201,
     "user": {
      "displayName": "Piyush Jharbade",
      "userId": "08295202073884817161"
     },
     "user_tz": -330
    },
    "id": "7zZYgCV-zpEI",
    "outputId": "995221f2-83c5-4d23-a049-f25cd6b044b4"
   },
   "outputs": [
    {
     "data": {
      "text/plain": [
       "torch.Size([1, 3, 3])"
      ]
     },
     "execution_count": 118,
     "metadata": {},
     "output_type": "execute_result"
    }
   ],
   "source": [
    " TENSOR.shape\n",
    " #(outer row vector, inner vectors of the outer vector , element in each inner vector )\n",
    " #it says 1(the outer most sq bracket), the 3 with middle bracket(for vector each containing 3 elements), then 3 for inner most bracket telling each vector containing 3 elements"
   ]
  },
  {
   "cell_type": "code",
   "execution_count": 119,
   "metadata": {
    "colab": {
     "base_uri": "https://localhost:8080/"
    },
    "executionInfo": {
     "elapsed": 414,
     "status": "ok",
     "timestamp": 1734040340281,
     "user": {
      "displayName": "Piyush Jharbade",
      "userId": "08295202073884817161"
     },
     "user_tz": -330
    },
    "id": "RhQwB9mZzwsg",
    "outputId": "946ea42d-9121-49e1-a880-d791c2f5354c"
   },
   "outputs": [
    {
     "name": "stdout",
     "output_type": "stream",
     "text": [
      "tensor([[1, 2, 3],\n",
      "        [4, 5, 6],\n",
      "        [7, 8, 9]])\n",
      "\n",
      "tensor([4, 5, 6])\n",
      "\n",
      "tensor(5)\n"
     ]
    }
   ],
   "source": [
    "print(TENSOR[0], end=\"\\n\\n\")\n",
    "\n",
    "print(TENSOR[0,1], end=\"\\n\\n\")\n",
    "\n",
    "print(TENSOR[0,1,1])\n",
    "\n",
    "#here we are giving dimension in the []"
   ]
  },
  {
   "cell_type": "markdown",
   "metadata": {
    "id": "BROAOYEcgpau"
   },
   "source": [
    "Random tensors\n",
    "\n",
    "Random tensors are important because the way many neural networks learn is that they start with tensors full of random numbers and then adjust those random numbers to better represent the data.\n",
    "\n",
    "neural network: start with random numbers--> look at data--> update random numbers\n"
   ]
  },
  {
   "cell_type": "code",
   "execution_count": 120,
   "metadata": {
    "colab": {
     "base_uri": "https://localhost:8080/"
    },
    "executionInfo": {
     "elapsed": 447,
     "status": "ok",
     "timestamp": 1734118849323,
     "user": {
      "displayName": "Piyush Jharbade",
      "userId": "08295202073884817161"
     },
     "user_tz": -330
    },
    "id": "hhjvkEmX0gAC",
    "outputId": "458d9624-d457-4301-aa3e-94e40960efb3"
   },
   "outputs": [
    {
     "data": {
      "text/plain": [
       "tensor([[0.4092, 0.1912, 0.5416, 0.9640],\n",
       "        [0.9019, 0.9101, 0.5462, 0.0151],\n",
       "        [0.7736, 0.4034, 0.0658, 0.9647]])"
      ]
     },
     "execution_count": 120,
     "metadata": {},
     "output_type": "execute_result"
    }
   ],
   "source": [
    "#createing a random tensor\n",
    "random_tensor=torch.rand(3,4)\n",
    "random_tensor"
   ]
  },
  {
   "cell_type": "code",
   "execution_count": 121,
   "metadata": {
    "colab": {
     "base_uri": "https://localhost:8080/"
    },
    "executionInfo": {
     "elapsed": 398,
     "status": "ok",
     "timestamp": 1734118854339,
     "user": {
      "displayName": "Piyush Jharbade",
      "userId": "08295202073884817161"
     },
     "user_tz": -330
    },
    "id": "gBw8DobRh4QO",
    "outputId": "c8a50768-03a0-4ec1-999b-d2261a00240f"
   },
   "outputs": [
    {
     "data": {
      "text/plain": [
       "2"
      ]
     },
     "execution_count": 121,
     "metadata": {},
     "output_type": "execute_result"
    }
   ],
   "source": [
    "random_tensor.ndim"
   ]
  },
  {
   "cell_type": "code",
   "execution_count": 122,
   "metadata": {
    "colab": {
     "base_uri": "https://localhost:8080/"
    },
    "executionInfo": {
     "elapsed": 386,
     "status": "ok",
     "timestamp": 1734118917177,
     "user": {
      "displayName": "Piyush Jharbade",
      "userId": "08295202073884817161"
     },
     "user_tz": -330
    },
    "id": "DXWgj_E3iVhi",
    "outputId": "28c37163-e4a5-4bc9-ec57-84f878cc9461"
   },
   "outputs": [
    {
     "data": {
      "text/plain": [
       "torch.Size([3, 4])"
      ]
     },
     "execution_count": 122,
     "metadata": {},
     "output_type": "execute_result"
    }
   ],
   "source": [
    "random_tensor.shape"
   ]
  },
  {
   "cell_type": "code",
   "execution_count": 123,
   "metadata": {
    "colab": {
     "base_uri": "https://localhost:8080/"
    },
    "executionInfo": {
     "elapsed": 387,
     "status": "ok",
     "timestamp": 1734119060711,
     "user": {
      "displayName": "Piyush Jharbade",
      "userId": "08295202073884817161"
     },
     "user_tz": -330
    },
    "id": "Hl41jtkGirz5",
    "outputId": "8103f32d-d839-4435-a185-1fa81033e8d2"
   },
   "outputs": [
    {
     "data": {
      "text/plain": [
       "(torch.Size([200, 200, 3]), 3)"
      ]
     },
     "execution_count": 123,
     "metadata": {},
     "output_type": "execute_result"
    }
   ],
   "source": [
    "#creating a random tensor with similar shape as that of a image tensor\n",
    "R=torch.rand(size=(200,200,3)) #height, width, color channels\n",
    "R.shape, R.ndim"
   ]
  },
  {
   "cell_type": "code",
   "execution_count": 124,
   "metadata": {
    "colab": {
     "base_uri": "https://localhost:8080/"
    },
    "executionInfo": {
     "elapsed": 388,
     "status": "ok",
     "timestamp": 1734119270347,
     "user": {
      "displayName": "Piyush Jharbade",
      "userId": "08295202073884817161"
     },
     "user_tz": -330
    },
    "id": "tmEgmkEPjO71",
    "outputId": "95d0172e-b3ca-4596-9235-494aaeb4aa42"
   },
   "outputs": [
    {
     "data": {
      "text/plain": [
       "tensor([0.2746, 0.8655, 0.4273])"
      ]
     },
     "execution_count": 124,
     "metadata": {},
     "output_type": "execute_result"
    }
   ],
   "source": [
    "R[150,150]\n"
   ]
  },
  {
   "cell_type": "code",
   "execution_count": 125,
   "metadata": {
    "colab": {
     "base_uri": "https://localhost:8080/"
    },
    "executionInfo": {
     "elapsed": 390,
     "status": "ok",
     "timestamp": 1734119457829,
     "user": {
      "displayName": "Piyush Jharbade",
      "userId": "08295202073884817161"
     },
     "user_tz": -330
    },
    "id": "UURmF6UCjV2B",
    "outputId": "f8616ade-fd63-4625-8665-a938d7149f80"
   },
   "outputs": [
    {
     "data": {
      "text/plain": [
       "(tensor([[0.2098, 0.9284, 0.7202, 0.2676],\n",
       "         [0.5032, 0.7943, 0.3288, 0.8662],\n",
       "         [0.8352, 0.9626, 0.1497, 0.7655]]),\n",
       " tensor([[0., 0., 0., 0.],\n",
       "         [0., 0., 0., 0.],\n",
       "         [0., 0., 0., 0.]]),\n",
       " tensor([[0., 0., 0., 0.],\n",
       "         [0., 0., 0., 0.],\n",
       "         [0., 0., 0., 0.]]))"
      ]
     },
     "execution_count": 125,
     "metadata": {},
     "output_type": "execute_result"
    }
   ],
   "source": [
    "R2=torch.rand(3,4)\n",
    "z=torch.zeros(3,4)\n",
    "R2,  z, R2*z"
   ]
  },
  {
   "cell_type": "code",
   "execution_count": 126,
   "metadata": {
    "colab": {
     "base_uri": "https://localhost:8080/"
    },
    "executionInfo": {
     "elapsed": 370,
     "status": "ok",
     "timestamp": 1734119560697,
     "user": {
      "displayName": "Piyush Jharbade",
      "userId": "08295202073884817161"
     },
     "user_tz": -330
    },
    "id": "dgFs57ArkwAU",
    "outputId": "850754b0-b430-4148-c7df-83bd57b85280"
   },
   "outputs": [
    {
     "data": {
      "text/plain": [
       "tensor([[2., 2., 2., 2.],\n",
       "        [2., 2., 2., 2.],\n",
       "        [2., 2., 2., 2.]])"
      ]
     },
     "execution_count": 126,
     "metadata": {},
     "output_type": "execute_result"
    }
   ],
   "source": [
    "o1=torch.ones(3,4)\n",
    "o2=torch.ones(3,4)\n",
    "o1+o2"
   ]
  },
  {
   "cell_type": "code",
   "execution_count": 127,
   "metadata": {
    "colab": {
     "base_uri": "https://localhost:8080/"
    },
    "executionInfo": {
     "elapsed": 377,
     "status": "ok",
     "timestamp": 1734119613957,
     "user": {
      "displayName": "Piyush Jharbade",
      "userId": "08295202073884817161"
     },
     "user_tz": -330
    },
    "id": "brIV3nq7lEJT",
    "outputId": "dba7014a-8bff-4bda-a9d7-d23689191fda"
   },
   "outputs": [
    {
     "data": {
      "text/plain": [
       "(torch.float32, torch.float32)"
      ]
     },
     "execution_count": 127,
     "metadata": {},
     "output_type": "execute_result"
    }
   ],
   "source": [
    " z.dtype, o1.dtype"
   ]
  },
  {
   "cell_type": "code",
   "execution_count": 128,
   "metadata": {
    "colab": {
     "base_uri": "https://localhost:8080/"
    },
    "executionInfo": {
     "elapsed": 458,
     "status": "ok",
     "timestamp": 1734202628673,
     "user": {
      "displayName": "Piyush Jharbade",
      "userId": "08295202073884817161"
     },
     "user_tz": -330
    },
    "id": "hFkkTONzhVXt",
    "outputId": "d44d06d7-d770-4d1a-8848-4c6ac473e9a0"
   },
   "outputs": [
    {
     "data": {
      "text/plain": [
       "tensor([[[1., 1., 1., 1., 1.],\n",
       "         [1., 1., 1., 1., 1.],\n",
       "         [1., 1., 1., 1., 1.],\n",
       "         [1., 1., 1., 1., 1.]],\n",
       "\n",
       "        [[1., 1., 1., 1., 1.],\n",
       "         [1., 1., 1., 1., 1.],\n",
       "         [1., 1., 1., 1., 1.],\n",
       "         [1., 1., 1., 1., 1.]],\n",
       "\n",
       "        [[1., 1., 1., 1., 1.],\n",
       "         [1., 1., 1., 1., 1.],\n",
       "         [1., 1., 1., 1., 1.],\n",
       "         [1., 1., 1., 1., 1.]]])"
      ]
     },
     "execution_count": 128,
     "metadata": {},
     "output_type": "execute_result"
    }
   ],
   "source": [
    "o=torch.ones(size=[3,4,5])\n",
    "o"
   ]
  },
  {
   "cell_type": "code",
   "execution_count": 129,
   "metadata": {
    "colab": {
     "base_uri": "https://localhost:8080/"
    },
    "executionInfo": {
     "elapsed": 9,
     "status": "ok",
     "timestamp": 1734202671546,
     "user": {
      "displayName": "Piyush Jharbade",
      "userId": "08295202073884817161"
     },
     "user_tz": -330
    },
    "id": "SquwUhothiLI",
    "outputId": "355423ac-f8df-45f8-a028-29c5dcfa3039"
   },
   "outputs": [
    {
     "data": {
      "text/plain": [
       "tensor([[[1., 1., 1., 1., 1.],\n",
       "         [1., 1., 1., 1., 1.],\n",
       "         [1., 1., 1., 1., 1.],\n",
       "         [1., 1., 1., 1., 1.]],\n",
       "\n",
       "        [[0., 0., 0., 0., 0.],\n",
       "         [0., 1., 0., 0., 0.],\n",
       "         [0., 0., 0., 0., 0.],\n",
       "         [0., 0., 0., 0., 0.]],\n",
       "\n",
       "        [[1., 1., 1., 1., 1.],\n",
       "         [1., 1., 1., 1., 1.],\n",
       "         [1., 1., 1., 1., 1.],\n",
       "         [1., 1., 1., 1., 1.]]])"
      ]
     },
     "execution_count": 129,
     "metadata": {},
     "output_type": "execute_result"
    }
   ],
   "source": [
    "o[1]=o[1]*0\n",
    "o\n",
    "o[1,1,1]=o[1,1,1]+1\n",
    "o"
   ]
  },
  {
   "cell_type": "markdown",
   "metadata": {
    "id": "GhJ6HtIdijE0"
   },
   "source": [
    "#Creating a range of tensors and tensors-like"
   ]
  },
  {
   "cell_type": "code",
   "execution_count": 130,
   "metadata": {
    "colab": {
     "base_uri": "https://localhost:8080/"
    },
    "executionInfo": {
     "elapsed": 485,
     "status": "ok",
     "timestamp": 1734203070717,
     "user": {
      "displayName": "Piyush Jharbade",
      "userId": "08295202073884817161"
     },
     "user_tz": -330
    },
    "id": "Ub5qldOSlSJg",
    "outputId": "b9114462-5fb2-4de9-c103-49d6ec9c8ecd"
   },
   "outputs": [
    {
     "name": "stderr",
     "output_type": "stream",
     "text": [
      "C:\\Users\\91898\\AppData\\Local\\Temp\\ipykernel_13740\\3402634198.py:1: UserWarning: torch.range is deprecated and will be removed in a future release because its behavior is inconsistent with Python's range builtin. Instead, use torch.arange, which produces values in [start, end).\n",
      "  k=torch.range(1000,1, -77) #soon \"range\" is going to get depricated\n"
     ]
    },
    {
     "data": {
      "text/plain": [
       "(tensor([1000.,  923.,  846.,  769.,  692.,  615.,  538.,  461.,  384.,  307.,\n",
       "          230.,  153.,   76.]),\n",
       " tensor([ 1,  2,  3,  4,  5,  6,  7,  8,  9, 10]))"
      ]
     },
     "execution_count": 130,
     "metadata": {},
     "output_type": "execute_result"
    }
   ],
   "source": [
    "k=torch.range(1000,1, -77) #soon \"range\" is going to get depricated\n",
    "ott=torch.arange(1, 11, 1)\n",
    "k, ott"
   ]
  },
  {
   "cell_type": "code",
   "execution_count": 131,
   "metadata": {
    "colab": {
     "base_uri": "https://localhost:8080/"
    },
    "executionInfo": {
     "elapsed": 520,
     "status": "ok",
     "timestamp": 1734203096204,
     "user": {
      "displayName": "Piyush Jharbade",
      "userId": "08295202073884817161"
     },
     "user_tz": -330
    },
    "id": "hEhnZ3nwi4eC",
    "outputId": "aa6edc04-65b1-427b-cdc3-b36d4957c468"
   },
   "outputs": [
    {
     "data": {
      "text/plain": [
       "tensor([0, 0, 0, 0, 0, 0, 0, 0, 0, 0])"
      ]
     },
     "execution_count": 131,
     "metadata": {},
     "output_type": "execute_result"
    }
   ],
   "source": [
    "tz=torch.zeros_like(ott)#_like will do make a new tenor like the argument\n",
    "tz"
   ]
  },
  {
   "cell_type": "markdown",
   "metadata": {
    "id": "046HgB1skWXv"
   },
   "source": [
    "#Tensor Datatypes"
   ]
  },
  {
   "cell_type": "code",
   "execution_count": 132,
   "metadata": {
    "colab": {
     "base_uri": "https://localhost:8080/"
    },
    "executionInfo": {
     "elapsed": 439,
     "status": "ok",
     "timestamp": 1734203428783,
     "user": {
      "displayName": "Piyush Jharbade",
      "userId": "08295202073884817161"
     },
     "user_tz": -330
    },
    "id": "sfUmRzV-jyU4",
    "outputId": "c8dbb961-c82f-4e76-892e-d51cb0d9b643"
   },
   "outputs": [
    {
     "data": {
      "text/plain": [
       "torch.float16"
      ]
     },
     "execution_count": 132,
     "metadata": {},
     "output_type": "execute_result"
    }
   ],
   "source": [
    "float_32_tensor = torch.tensor([3.0,6.0,9.0], dtype=torch.float16)\n",
    "float_32_tensor.dtype"
   ]
  },
  {
   "cell_type": "code",
   "execution_count": 133,
   "metadata": {
    "id": "-mXEQX82k0VD"
   },
   "outputs": [
    {
     "data": {
      "text/plain": [
       "torch.float32"
      ]
     },
     "execution_count": 133,
     "metadata": {},
     "output_type": "execute_result"
    }
   ],
   "source": [
    "float_32_tensor = torch.tensor([3.0,6.0,9.0],\n",
    "                               dtype=None, #the type of data type the tensor is e.g. float32, float16, etc. for more look at pytorch documentation\n",
    "                               device=\"cpu\", #what device is your tensor on\n",
    "                               requires_grad=False)# whether or not to track gradients with this tensor operations\n",
    "float_32_tensor.dtype\n",
    "\n"
   ]
  },
  {
   "cell_type": "markdown",
   "metadata": {
    "id": "8IhtfK9AmGuL"
   },
   "source": [
    "why data type is a big deal while creating a tensor?\n",
    "\n",
    "**NOTE:** Tensor datatypes has 3 big issues with tensor attributes(errors that we run into) with pytorch and deeplearning\n",
    "1. Tensors not right datatype(dtype attribute)\n",
    "2. Tensors not right shape(shape attribute)(shows mostly when we multiply/dot product of 2 tensors)\n",
    "3. Tensors not on right device(device attribute)(e.g. both the tensors are not on the same device), i.e. cpu, gpu(keyword=\"cuda\"), tpu, etc.), all of the tensors by default will go on cpu unless we state it.\n",
    "\n",
    "-->They help in precision(the measure of the detail in which the qty is expressed OR the number of digits used to express a value) and computing\n",
    "\n",
    "NOTE: single-precision floating point is also called float32(i.e the number is represented by 32 bits in the memory same for float16), this make float16 as half-precision.\n",
    "\n",
    "Though the default is float32\n",
    "\n",
    "This is used when we are a ok with the sacrifice of detail in which our numbers are being expressed, so that we can calculate faster on the numbers that take less memory."
   ]
  },
  {
   "cell_type": "markdown",
   "metadata": {
    "id": "5Cg2-5u1qgC2"
   },
   "source": [
    "The below is the solution if we ran into 1st type of dtype problem"
   ]
  },
  {
   "cell_type": "code",
   "execution_count": 134,
   "metadata": {
    "colab": {
     "base_uri": "https://localhost:8080/"
    },
    "executionInfo": {
     "elapsed": 431,
     "status": "ok",
     "timestamp": 1734204830091,
     "user": {
      "displayName": "Piyush Jharbade",
      "userId": "08295202073884817161"
     },
     "user_tz": -330
    },
    "id": "YyncX65hmjVz",
    "outputId": "e4cd927a-f574-453c-9c44-fbf16b68ef95"
   },
   "outputs": [
    {
     "data": {
      "text/plain": [
       "tensor([3., 6., 9.], dtype=torch.float16)"
      ]
     },
     "execution_count": 134,
     "metadata": {},
     "output_type": "execute_result"
    }
   ],
   "source": [
    "F16=float_32_tensor.type(torch.float16) # or we can also do (torch.half)\n",
    "F16\n"
   ]
  },
  {
   "cell_type": "code",
   "execution_count": 135,
   "metadata": {
    "colab": {
     "base_uri": "https://localhost:8080/"
    },
    "executionInfo": {
     "elapsed": 425,
     "status": "ok",
     "timestamp": 1734205195204,
     "user": {
      "displayName": "Piyush Jharbade",
      "userId": "08295202073884817161"
     },
     "user_tz": -330
    },
    "id": "BR9JR32QqaxF",
    "outputId": "3331f503-0ae7-486b-d638-9aa2d8f61549"
   },
   "outputs": [
    {
     "data": {
      "text/plain": [
       "tensor([ 9., 36., 81.])"
      ]
     },
     "execution_count": 135,
     "metadata": {},
     "output_type": "execute_result"
    }
   ],
   "source": [
    "K=F16*float_32_tensor #this shows that for small operations it does not give datatype issues\n",
    "K"
   ]
  },
  {
   "cell_type": "code",
   "execution_count": 136,
   "metadata": {
    "id": "0QV5QxcWrcoQ"
   },
   "outputs": [],
   "source": [
    "I32=torch.tensor([3,4,5], dtype=torch.int16)\n",
    "F32=torch.tensor([3,4,5], dtype=torch.float32)"
   ]
  },
  {
   "cell_type": "code",
   "execution_count": 137,
   "metadata": {
    "colab": {
     "base_uri": "https://localhost:8080/"
    },
    "executionInfo": {
     "elapsed": 1036,
     "status": "ok",
     "timestamp": 1734205777894,
     "user": {
      "displayName": "Piyush Jharbade",
      "userId": "08295202073884817161"
     },
     "user_tz": -330
    },
    "id": "xaTt3s95sTrc",
    "outputId": "0087f1f9-bd28-4e6f-dae7-cf3102ad54fa"
   },
   "outputs": [
    {
     "data": {
      "text/plain": [
       "(tensor([ 6.,  8., 10.]), torch.float32)"
      ]
     },
     "execution_count": 137,
     "metadata": {},
     "output_type": "execute_result"
    }
   ],
   "source": [
    "k=F32+I32\n",
    "k, k.dtype"
   ]
  },
  {
   "cell_type": "code",
   "execution_count": 138,
   "metadata": {
    "colab": {
     "base_uri": "https://localhost:8080/"
    },
    "executionInfo": {
     "elapsed": 4,
     "status": "ok",
     "timestamp": 1734205888451,
     "user": {
      "displayName": "Piyush Jharbade",
      "userId": "08295202073884817161"
     },
     "user_tz": -330
    },
    "id": "QkXORoZasb2J",
    "outputId": "c5e794d3-c4bd-409f-c374-1ef00f2e146d"
   },
   "outputs": [
    {
     "data": {
      "text/plain": [
       "device(type='cpu')"
      ]
     },
     "execution_count": 138,
     "metadata": {},
     "output_type": "execute_result"
    }
   ],
   "source": [
    "k.device"
   ]
  },
  {
   "cell_type": "code",
   "execution_count": 139,
   "metadata": {
    "colab": {
     "base_uri": "https://localhost:8080/"
    },
    "executionInfo": {
     "elapsed": 448,
     "status": "ok",
     "timestamp": 1734206200715,
     "user": {
      "displayName": "Piyush Jharbade",
      "userId": "08295202073884817161"
     },
     "user_tz": -330
    },
    "id": "AlWVavOJudJ5",
    "outputId": "e591c34d-e02b-494c-a677-8b61bdeb3f1b"
   },
   "outputs": [
    {
     "data": {
      "text/plain": [
       "(torch.Size([3]), torch.Size([3]))"
      ]
     },
     "execution_count": 139,
     "metadata": {},
     "output_type": "execute_result"
    }
   ],
   "source": [
    "k.size(), k.shape #this shows size is a function and shape is an attirbute"
   ]
  },
  {
   "cell_type": "markdown",
   "metadata": {
    "id": "rqLyrv2YwOau"
   },
   "source": [
    "#Manipulating Tensors(tensor operations)\n",
    "when we are building neural networks, the NN are comprised of many mathematical functions that our pytorch code is going to run behind the scene for us\n",
    "\n",
    "Tensor Operatoins include:\n",
    "* Addition\n",
    "* Subtraction\n",
    "* Multiplication(element-wise)\n",
    "* Division\n",
    "* Matrix multiplication(dot product)"
   ]
  },
  {
   "cell_type": "code",
   "execution_count": 140,
   "metadata": {
    "colab": {
     "base_uri": "https://localhost:8080/"
    },
    "executionInfo": {
     "elapsed": 408,
     "status": "ok",
     "timestamp": 1734206903578,
     "user": {
      "displayName": "Piyush Jharbade",
      "userId": "08295202073884817161"
     },
     "user_tz": -330
    },
    "id": "u_KDS5T-vpcE",
    "outputId": "dee5c29d-6e92-47e0-8297-030c2e526e99"
   },
   "outputs": [
    {
     "data": {
      "text/plain": [
       "(tensor([11, 14, 17]), tensor([11, 14, 17]))"
      ]
     },
     "execution_count": 140,
     "metadata": {},
     "output_type": "execute_result"
    }
   ],
   "source": [
    "TEN=torch.tensor([1,4,7])\n",
    "TEN+10, torch.add(TEN, 10)"
   ]
  },
  {
   "cell_type": "code",
   "execution_count": 141,
   "metadata": {
    "colab": {
     "base_uri": "https://localhost:8080/"
    },
    "executionInfo": {
     "elapsed": 7,
     "status": "ok",
     "timestamp": 1734206729776,
     "user": {
      "displayName": "Piyush Jharbade",
      "userId": "08295202073884817161"
     },
     "user_tz": -330
    },
    "id": "KNmFtIFAxozz",
    "outputId": "8954cfd8-c20d-4615-c402-bae2fbbee249"
   },
   "outputs": [
    {
     "data": {
      "text/plain": [
       "torch.int64"
      ]
     },
     "execution_count": 141,
     "metadata": {},
     "output_type": "execute_result"
    }
   ],
   "source": [
    "TEN.dtype"
   ]
  },
  {
   "cell_type": "code",
   "execution_count": 142,
   "metadata": {
    "colab": {
     "base_uri": "https://localhost:8080/"
    },
    "executionInfo": {
     "elapsed": 6,
     "status": "ok",
     "timestamp": 1734206918734,
     "user": {
      "displayName": "Piyush Jharbade",
      "userId": "08295202073884817161"
     },
     "user_tz": -330
    },
    "id": "VVjYDEi4xYXN",
    "outputId": "f20bc00d-cdac-480b-9d34-4c989589c6e4"
   },
   "outputs": [
    {
     "data": {
      "text/plain": [
       "(tensor([-1,  2,  5]), tensor([-1,  2,  5]))"
      ]
     },
     "execution_count": 142,
     "metadata": {},
     "output_type": "execute_result"
    }
   ],
   "source": [
    "TEN-2, torch.sub(TEN, 2)"
   ]
  },
  {
   "cell_type": "code",
   "execution_count": 143,
   "metadata": {
    "colab": {
     "base_uri": "https://localhost:8080/"
    },
    "executionInfo": {
     "elapsed": 420,
     "status": "ok",
     "timestamp": 1734206935127,
     "user": {
      "displayName": "Piyush Jharbade",
      "userId": "08295202073884817161"
     },
     "user_tz": -330
    },
    "id": "sJio9jFBxfmT",
    "outputId": "f03b0900-ebbd-42df-d5f0-a42287409a26"
   },
   "outputs": [
    {
     "data": {
      "text/plain": [
       "(tensor([ 3, 12, 21]), tensor([ 3, 12, 21]))"
      ]
     },
     "execution_count": 143,
     "metadata": {},
     "output_type": "execute_result"
    }
   ],
   "source": [
    "TEN*3, torch.mul(TEN, 3)"
   ]
  },
  {
   "cell_type": "code",
   "execution_count": 144,
   "metadata": {
    "colab": {
     "base_uri": "https://localhost:8080/"
    },
    "executionInfo": {
     "elapsed": 440,
     "status": "ok",
     "timestamp": 1734207155390,
     "user": {
      "displayName": "Piyush Jharbade",
      "userId": "08295202073884817161"
     },
     "user_tz": -330
    },
    "id": "m1Ox8IV4xiI7",
    "outputId": "9ede992b-7aee-47de-90f0-13e7b9965dcd"
   },
   "outputs": [
    {
     "data": {
      "text/plain": [
       "(tensor([1, 4, 7]),\n",
       " tensor([0.5000, 2.0000, 3.5000]),\n",
       " tensor([0.5000, 2.0000, 3.5000]),\n",
       " torch.float32)"
      ]
     },
     "execution_count": 144,
     "metadata": {},
     "output_type": "execute_result"
    }
   ],
   "source": [
    "TEN, TEN/2, torch.mul(TEN, 1/2), (TEN/2).dtype #here implicit typecasting takes place"
   ]
  },
  {
   "cell_type": "code",
   "execution_count": 145,
   "metadata": {
    "colab": {
     "base_uri": "https://localhost:8080/"
    },
    "executionInfo": {
     "elapsed": 509,
     "status": "ok",
     "timestamp": 1734207532018,
     "user": {
      "displayName": "Piyush Jharbade",
      "userId": "08295202073884817161"
     },
     "user_tz": -330
    },
    "id": "ZG-kfNBkxlYt",
    "outputId": "7c8f4a53-ed08-41d5-e7a8-e1538a7ff9bd"
   },
   "outputs": [
    {
     "data": {
      "text/plain": [
       "(tensor([1, 4, 7]), tensor([ 1, 16, 49]), tensor([ 1, 16, 49]))"
      ]
     },
     "execution_count": 145,
     "metadata": {},
     "output_type": "execute_result"
    }
   ],
   "source": [
    "TEN, TEN*TEN, torch.mul(TEN, TEN)"
   ]
  },
  {
   "cell_type": "code",
   "execution_count": 146,
   "metadata": {
    "colab": {
     "base_uri": "https://localhost:8080/"
    },
    "executionInfo": {
     "elapsed": 455,
     "status": "ok",
     "timestamp": 1734208790126,
     "user": {
      "displayName": "Piyush Jharbade",
      "userId": "08295202073884817161"
     },
     "user_tz": -330
    },
    "id": "vR3AMf4L1tmF",
    "outputId": "61b33d7d-59d0-45e4-f3f3-c46ade4930e0"
   },
   "outputs": [
    {
     "name": "stdout",
     "output_type": "stream",
     "text": [
      "CPU times: total: 0 ns\n",
      "Wall time: 0 ns\n"
     ]
    },
    {
     "data": {
      "text/plain": [
       "(tensor([ 1, 16, 49]), tensor(66))"
      ]
     },
     "execution_count": 146,
     "metadata": {},
     "output_type": "execute_result"
    }
   ],
   "source": [
    "%%time\n",
    "TEN*TEN, TEN@TEN"
   ]
  },
  {
   "cell_type": "code",
   "execution_count": 147,
   "metadata": {
    "colab": {
     "base_uri": "https://localhost:8080/"
    },
    "executionInfo": {
     "elapsed": 654,
     "status": "ok",
     "timestamp": 1734207829038,
     "user": {
      "displayName": "Piyush Jharbade",
      "userId": "08295202073884817161"
     },
     "user_tz": -330
    },
    "id": "zznRQzW_0O9n",
    "outputId": "d1e88ba1-9f36-4ebe-f302-0abaa9213746"
   },
   "outputs": [
    {
     "name": "stdout",
     "output_type": "stream",
     "text": [
      "CPU times: total: 0 ns\n",
      "Wall time: 0 ns\n"
     ]
    },
    {
     "data": {
      "text/plain": [
       "tensor(66)"
      ]
     },
     "execution_count": 147,
     "metadata": {},
     "output_type": "execute_result"
    }
   ],
   "source": [
    "%%time\n",
    "torch.dot(TEN, TEN)"
   ]
  },
  {
   "cell_type": "code",
   "execution_count": 148,
   "metadata": {
    "colab": {
     "base_uri": "https://localhost:8080/"
    },
    "executionInfo": {
     "elapsed": 406,
     "status": "ok",
     "timestamp": 1734207820777,
     "user": {
      "displayName": "Piyush Jharbade",
      "userId": "08295202073884817161"
     },
     "user_tz": -330
    },
    "id": "p_qijbx40cDD",
    "outputId": "76551533-ec4b-41e8-e209-e3940a126802"
   },
   "outputs": [
    {
     "name": "stdout",
     "output_type": "stream",
     "text": [
      "CPU times: total: 0 ns\n",
      "Wall time: 0 ns\n"
     ]
    },
    {
     "data": {
      "text/plain": [
       "tensor(66)"
      ]
     },
     "execution_count": 148,
     "metadata": {},
     "output_type": "execute_result"
    }
   ],
   "source": [
    "%%time\n",
    "torch.matmul(TEN,TEN)"
   ]
  },
  {
   "cell_type": "code",
   "execution_count": 149,
   "metadata": {
    "colab": {
     "base_uri": "https://localhost:8080/"
    },
    "executionInfo": {
     "elapsed": 413,
     "status": "ok",
     "timestamp": 1734211145775,
     "user": {
      "displayName": "Piyush Jharbade",
      "userId": "08295202073884817161"
     },
     "user_tz": -330
    },
    "id": "Rianz9-O1iGf",
    "outputId": "a4305407-463e-463d-cbb7-4fca257f2820"
   },
   "outputs": [
    {
     "data": {
      "text/plain": [
       "(tensor([[1, 2],\n",
       "         [3, 4],\n",
       "         [5, 6]]),\n",
       " torch.Size([3, 2]),\n",
       " torch.int64)"
      ]
     },
     "execution_count": 149,
     "metadata": {},
     "output_type": "execute_result"
    }
   ],
   "source": [
    "T=torch.tensor([[1,2],[3,4],[5,6]])\n",
    "T, T.shape, T.dtype"
   ]
  },
  {
   "cell_type": "code",
   "execution_count": 150,
   "metadata": {
    "colab": {
     "base_uri": "https://localhost:8080/"
    },
    "executionInfo": {
     "elapsed": 435,
     "status": "ok",
     "timestamp": 1734211147955,
     "user": {
      "displayName": "Piyush Jharbade",
      "userId": "08295202073884817161"
     },
     "user_tz": -330
    },
    "id": "--Xd1gTm5z4T",
    "outputId": "32ad9171-8153-4da9-93fe-d62b7667a574"
   },
   "outputs": [
    {
     "data": {
      "text/plain": [
       "(tensor([[1, 2],\n",
       "         [3, 4],\n",
       "         [5, 6]]),\n",
       " torch.Size([3, 2]),\n",
       " torch.int64,\n",
       " 2)"
      ]
     },
     "execution_count": 150,
     "metadata": {},
     "output_type": "execute_result"
    }
   ],
   "source": [
    "A=torch.tensor([[1,2],[3,4],[5,6]])\n",
    "A, A.shape, A.dtype, A.ndim"
   ]
  },
  {
   "cell_type": "code",
   "execution_count": 151,
   "metadata": {
    "colab": {
     "base_uri": "https://localhost:8080/"
    },
    "executionInfo": {
     "elapsed": 473,
     "status": "ok",
     "timestamp": 1734211161640,
     "user": {
      "displayName": "Piyush Jharbade",
      "userId": "08295202073884817161"
     },
     "user_tz": -330
    },
    "id": "Lw_ATuUFBaE9",
    "outputId": "91f7219c-38e2-42b5-ae2b-d2e65712ea88"
   },
   "outputs": [
    {
     "data": {
      "text/plain": [
       "(tensor([[1, 3, 5],\n",
       "         [2, 4, 6]]),\n",
       " torch.Size([2, 3]),\n",
       " torch.int64,\n",
       " 2)"
      ]
     },
     "execution_count": 151,
     "metadata": {},
     "output_type": "execute_result"
    }
   ],
   "source": [
    "AT=torch.transpose(A, 0, 1)\n",
    "AT, AT.shape, AT.dtype, AT.ndim"
   ]
  },
  {
   "cell_type": "code",
   "execution_count": 152,
   "metadata": {
    "colab": {
     "base_uri": "https://localhost:8080/"
    },
    "executionInfo": {
     "elapsed": 3,
     "status": "ok",
     "timestamp": 1734211174118,
     "user": {
      "displayName": "Piyush Jharbade",
      "userId": "08295202073884817161"
     },
     "user_tz": -330
    },
    "id": "8PntY11I6HC-",
    "outputId": "4eaf126a-cb72-4db2-e78c-e756b026e400"
   },
   "outputs": [
    {
     "data": {
      "text/plain": [
       "(tensor([[35, 44],\n",
       "         [44, 56]]),\n",
       " tensor([[ 5, 11, 17],\n",
       "         [11, 25, 39],\n",
       "         [17, 39, 61]]))"
      ]
     },
     "execution_count": 152,
     "metadata": {},
     "output_type": "execute_result"
    }
   ],
   "source": [
    "AT@T, T@AT"
   ]
  },
  {
   "cell_type": "markdown",
   "metadata": {
    "id": "amXoc99V_dpe"
   },
   "source": [
    "###Here the contracted dimensions of the two tensors should meet, contracted dimension means\n",
    "\n",
    "(9, 4, 5)\n",
    "\n",
    "      |  |\n",
    "\n",
    "      (4, 5, 7)"
   ]
  },
  {
   "cell_type": "code",
   "execution_count": 153,
   "metadata": {
    "colab": {
     "base_uri": "https://localhost:8080/"
    },
    "executionInfo": {
     "elapsed": 457,
     "status": "ok",
     "timestamp": 1734210597165,
     "user": {
      "displayName": "Piyush Jharbade",
      "userId": "08295202073884817161"
     },
     "user_tz": -330
    },
    "id": "YXV1bye76eSy",
    "outputId": "97483b4d-d63f-4ff8-ebc6-c7ad46841833"
   },
   "outputs": [
    {
     "data": {
      "text/plain": [
       "(torch.float32, torch.Size([9, 4, 5]))"
      ]
     },
     "execution_count": 153,
     "metadata": {},
     "output_type": "execute_result"
    }
   ],
   "source": [
    "C=torch.ones(9,4,5)\n",
    "C.dtype, C.shape"
   ]
  },
  {
   "cell_type": "code",
   "execution_count": 154,
   "metadata": {
    "colab": {
     "base_uri": "https://localhost:8080/"
    },
    "executionInfo": {
     "elapsed": 2,
     "status": "ok",
     "timestamp": 1734210597812,
     "user": {
      "displayName": "Piyush Jharbade",
      "userId": "08295202073884817161"
     },
     "user_tz": -330
    },
    "id": "IKVSU9Tn7efz",
    "outputId": "090d9a0b-c675-4470-c752-de4ac5582740"
   },
   "outputs": [
    {
     "data": {
      "text/plain": [
       "(torch.float32, torch.Size([4, 5, 7]))"
      ]
     },
     "execution_count": 154,
     "metadata": {},
     "output_type": "execute_result"
    }
   ],
   "source": [
    "D=torch.ones(4,5,7)\n",
    "D.dtype, D.shape"
   ]
  },
  {
   "cell_type": "code",
   "execution_count": 155,
   "metadata": {
    "id": "RkxpXWXT781x"
   },
   "outputs": [],
   "source": [
    "E=torch.tensordot(C,D)"
   ]
  },
  {
   "cell_type": "code",
   "execution_count": 156,
   "metadata": {
    "colab": {
     "base_uri": "https://localhost:8080/"
    },
    "executionInfo": {
     "elapsed": 414,
     "status": "ok",
     "timestamp": 1734210291152,
     "user": {
      "displayName": "Piyush Jharbade",
      "userId": "08295202073884817161"
     },
     "user_tz": -330
    },
    "id": "9P8l02hE8FkT",
    "outputId": "4c59e2b2-19d8-4860-af7c-f82a5c380578"
   },
   "outputs": [
    {
     "data": {
      "text/plain": [
       "(tensor([[20., 20., 20., 20., 20., 20., 20.],\n",
       "         [20., 20., 20., 20., 20., 20., 20.],\n",
       "         [20., 20., 20., 20., 20., 20., 20.],\n",
       "         [20., 20., 20., 20., 20., 20., 20.],\n",
       "         [20., 20., 20., 20., 20., 20., 20.],\n",
       "         [20., 20., 20., 20., 20., 20., 20.],\n",
       "         [20., 20., 20., 20., 20., 20., 20.],\n",
       "         [20., 20., 20., 20., 20., 20., 20.],\n",
       "         [20., 20., 20., 20., 20., 20., 20.]]),\n",
       " torch.Size([9, 7]))"
      ]
     },
     "execution_count": 156,
     "metadata": {},
     "output_type": "execute_result"
    }
   ],
   "source": [
    "E, E.shape"
   ]
  },
  {
   "cell_type": "markdown",
   "metadata": {
    "id": "5kMSYyBdiOBH"
   },
   "source": [
    "##Tensor Aggragation (finding min, max, mean, sum, etc)"
   ]
  },
  {
   "cell_type": "code",
   "execution_count": 157,
   "metadata": {
    "colab": {
     "base_uri": "https://localhost:8080/"
    },
    "executionInfo": {
     "elapsed": 4,
     "status": "ok",
     "timestamp": 1734286956160,
     "user": {
      "displayName": "Piyush Jharbade",
      "userId": "08295202073884817161"
     },
     "user_tz": -330
    },
    "id": "BIrDmDaR-0mz",
    "outputId": "56f8c919-a7e3-4085-a2f6-92e762622a66"
   },
   "outputs": [
    {
     "data": {
      "text/plain": [
       "(tensor([ 0, 10, 20, 30, 40, 50, 60, 70, 80, 90]), torch.int64)"
      ]
     },
     "execution_count": 157,
     "metadata": {},
     "output_type": "execute_result"
    }
   ],
   "source": [
    "x=torch.arange(0,100,10)\n",
    "x, x.dtype"
   ]
  },
  {
   "cell_type": "code",
   "execution_count": 158,
   "metadata": {
    "colab": {
     "base_uri": "https://localhost:8080/"
    },
    "executionInfo": {
     "elapsed": 401,
     "status": "ok",
     "timestamp": 1734286719292,
     "user": {
      "displayName": "Piyush Jharbade",
      "userId": "08295202073884817161"
     },
     "user_tz": -330
    },
    "id": "RcpiVcE5ivU7",
    "outputId": "b9aa34ff-889c-4f9f-cc99-6f3092d0776b"
   },
   "outputs": [
    {
     "data": {
      "text/plain": [
       "(tensor(0), tensor(0))"
      ]
     },
     "execution_count": 158,
     "metadata": {},
     "output_type": "execute_result"
    }
   ],
   "source": [
    "torch.min(x), x.min()"
   ]
  },
  {
   "cell_type": "code",
   "execution_count": 159,
   "metadata": {
    "colab": {
     "base_uri": "https://localhost:8080/"
    },
    "executionInfo": {
     "elapsed": 397,
     "status": "ok",
     "timestamp": 1734286749602,
     "user": {
      "displayName": "Piyush Jharbade",
      "userId": "08295202073884817161"
     },
     "user_tz": -330
    },
    "id": "j2JTimmOizSR",
    "outputId": "4e36b451-ddf6-408b-f876-b2f0c697aef5"
   },
   "outputs": [
    {
     "data": {
      "text/plain": [
       "(tensor(90), tensor(90))"
      ]
     },
     "execution_count": 159,
     "metadata": {},
     "output_type": "execute_result"
    }
   ],
   "source": [
    "torch.max(x), x.max()"
   ]
  },
  {
   "cell_type": "code",
   "execution_count": 160,
   "metadata": {
    "colab": {
     "base_uri": "https://localhost:8080/"
    },
    "executionInfo": {
     "elapsed": 452,
     "status": "ok",
     "timestamp": 1734289882316,
     "user": {
      "displayName": "Piyush Jharbade",
      "userId": "08295202073884817161"
     },
     "user_tz": -330
    },
    "id": "ngHr-vjZi6eh",
    "outputId": "03c837d2-1b4c-4c6b-9272-badb9e25bc75"
   },
   "outputs": [
    {
     "data": {
      "text/plain": [
       "(tensor(45.), tensor(45., dtype=torch.float16))"
      ]
     },
     "execution_count": 160,
     "metadata": {},
     "output_type": "execute_result"
    }
   ],
   "source": [
    "torch.mean(x.type(torch.float32)), x.type(torch.float16).mean()"
   ]
  },
  {
   "cell_type": "markdown",
   "metadata": {
    "id": "PoAiEqwdv8cU"
   },
   "source": [
    "##Finding positional(index value of) min and max"
   ]
  },
  {
   "cell_type": "code",
   "execution_count": 161,
   "metadata": {
    "colab": {
     "base_uri": "https://localhost:8080/"
    },
    "executionInfo": {
     "elapsed": 424,
     "status": "ok",
     "timestamp": 1734291682693,
     "user": {
      "displayName": "Piyush Jharbade",
      "userId": "08295202073884817161"
     },
     "user_tz": -330
    },
    "id": "KgN737xNjAkS",
    "outputId": "37a3549c-4157-4327-8867-97d3b70737c6"
   },
   "outputs": [
    {
     "data": {
      "text/plain": [
       "(tensor(0), tensor(9))"
      ]
     },
     "execution_count": 161,
     "metadata": {},
     "output_type": "execute_result"
    }
   ],
   "source": [
    "x.argmin(), x.argmax()"
   ]
  },
  {
   "cell_type": "markdown",
   "metadata": {
    "id": "Dg3Mfz572xZe"
   },
   "source": [
    "## Reshaping, stacking, squeezing and unsqueezing tensors"
   ]
  },
  {
   "cell_type": "markdown",
   "metadata": {
    "id": "qHdX9BRY8UHs"
   },
   "source": [
    "### * Reshaping - reshapes an input tensor to a defined shape\n"
   ]
  },
  {
   "cell_type": "code",
   "execution_count": 162,
   "metadata": {
    "colab": {
     "base_uri": "https://localhost:8080/"
    },
    "executionInfo": {
     "elapsed": 404,
     "status": "ok",
     "timestamp": 1734292748126,
     "user": {
      "displayName": "Piyush Jharbade",
      "userId": "08295202073884817161"
     },
     "user_tz": -330
    },
    "id": "dmAYKJRHwCHF",
    "outputId": "ede3fb6c-4484-4043-bad8-c261ec5e1ada"
   },
   "outputs": [
    {
     "data": {
      "text/plain": [
       "(tensor([20., 21., 22., 23., 24., 25., 26., 27., 28., 29., 30., 31.]),\n",
       " torch.Size([12]))"
      ]
     },
     "execution_count": 162,
     "metadata": {},
     "output_type": "execute_result"
    }
   ],
   "source": [
    "import torch\n",
    "x = torch.arange(20.,32.)\n",
    "x, x.shape"
   ]
  },
  {
   "cell_type": "code",
   "execution_count": 163,
   "metadata": {
    "colab": {
     "base_uri": "https://localhost:8080/"
    },
    "executionInfo": {
     "elapsed": 407,
     "status": "ok",
     "timestamp": 1734292833051,
     "user": {
      "displayName": "Piyush Jharbade",
      "userId": "08295202073884817161"
     },
     "user_tz": -330
    },
    "id": "cv8-AfIJ418X",
    "outputId": "f87d36e9-e9a0-4216-ed76-2f7a2df3118b"
   },
   "outputs": [
    {
     "data": {
      "text/plain": [
       "(tensor([[20., 21., 22., 23.],\n",
       "         [24., 25., 26., 27.],\n",
       "         [28., 29., 30., 31.]]),\n",
       " torch.Size([3, 4]))"
      ]
     },
     "execution_count": 163,
     "metadata": {},
     "output_type": "execute_result"
    }
   ],
   "source": [
    "x_reshaped1= x.reshape(3,4)\n",
    "x_reshaped1, x_reshaped1.shape"
   ]
  },
  {
   "cell_type": "code",
   "execution_count": 164,
   "metadata": {
    "colab": {
     "base_uri": "https://localhost:8080/"
    },
    "executionInfo": {
     "elapsed": 424,
     "status": "ok",
     "timestamp": 1734292948188,
     "user": {
      "displayName": "Piyush Jharbade",
      "userId": "08295202073884817161"
     },
     "user_tz": -330
    },
    "id": "yaIsJgEj5Fq7",
    "outputId": "4fb1d542-6367-47f9-d604-00d37025b58b"
   },
   "outputs": [
    {
     "data": {
      "text/plain": [
       "(tensor([[[20., 21.],\n",
       "          [22., 23.],\n",
       "          [24., 25.]],\n",
       " \n",
       "         [[26., 27.],\n",
       "          [28., 29.],\n",
       "          [30., 31.]]]),\n",
       " torch.Size([2, 3, 2]))"
      ]
     },
     "execution_count": 164,
     "metadata": {},
     "output_type": "execute_result"
    }
   ],
   "source": [
    "x_reshaped2= x.reshape(2,3,2)\n",
    "x_reshaped2, x_reshaped2.shape"
   ]
  },
  {
   "cell_type": "code",
   "execution_count": 165,
   "metadata": {
    "colab": {
     "base_uri": "https://localhost:8080/"
    },
    "executionInfo": {
     "elapsed": 440,
     "status": "ok",
     "timestamp": 1734292960072,
     "user": {
      "displayName": "Piyush Jharbade",
      "userId": "08295202073884817161"
     },
     "user_tz": -330
    },
    "id": "BBLCPe256ORn",
    "outputId": "54bb16a9-7992-4763-f898-fe7f643477f1"
   },
   "outputs": [
    {
     "data": {
      "text/plain": [
       "(tensor([[[20., 21.],\n",
       "          [22., 23.]],\n",
       " \n",
       "         [[24., 25.],\n",
       "          [26., 27.]],\n",
       " \n",
       "         [[28., 29.],\n",
       "          [30., 31.]]]),\n",
       " torch.Size([3, 2, 2]))"
      ]
     },
     "execution_count": 165,
     "metadata": {},
     "output_type": "execute_result"
    }
   ],
   "source": [
    "x_reshaped2= x.reshape(3,2,2)\n",
    "x_reshaped2, x_reshaped2.shape"
   ]
  },
  {
   "cell_type": "code",
   "execution_count": 166,
   "metadata": {
    "colab": {
     "base_uri": "https://localhost:8080/"
    },
    "executionInfo": {
     "elapsed": 5,
     "status": "ok",
     "timestamp": 1734293194464,
     "user": {
      "displayName": "Piyush Jharbade",
      "userId": "08295202073884817161"
     },
     "user_tz": -330
    },
    "id": "Gmb98s446m7z",
    "outputId": "0584aeec-685d-4939-cd1c-9f06aa9ad1f7"
   },
   "outputs": [
    {
     "data": {
      "text/plain": [
       "(tensor([[[[20., 21.],\n",
       "           [22., 23.]]],\n",
       " \n",
       " \n",
       "         [[[24., 25.],\n",
       "           [26., 27.]]],\n",
       " \n",
       " \n",
       "         [[[28., 29.],\n",
       "           [30., 31.]]]]),\n",
       " torch.Size([3, 1, 2, 2]))"
      ]
     },
     "execution_count": 166,
     "metadata": {},
     "output_type": "execute_result"
    }
   ],
   "source": [
    "x_reshaped3= x.reshape(3,1,2,2)\n",
    "x_reshaped3, x_reshaped3.shape"
   ]
  },
  {
   "cell_type": "code",
   "execution_count": null,
   "metadata": {
    "id": "MlFvFB-97ctx"
   },
   "outputs": [],
   "source": []
  },
  {
   "cell_type": "markdown",
   "metadata": {
    "id": "L220xiSz8gkP"
   },
   "source": [
    "###*View- Return a view of an input tensor of certain shape but keep the same emmory as the original tensor"
   ]
  },
  {
   "cell_type": "code",
   "execution_count": 167,
   "metadata": {
    "colab": {
     "base_uri": "https://localhost:8080/"
    },
    "executionInfo": {
     "elapsed": 592,
     "status": "ok",
     "timestamp": 1734294180189,
     "user": {
      "displayName": "Piyush Jharbade",
      "userId": "08295202073884817161"
     },
     "user_tz": -330
    },
    "id": "HwAqLslV8nEP",
    "outputId": "46ca34b4-770f-4af3-e1dc-2924874f1158"
   },
   "outputs": [
    {
     "data": {
      "text/plain": [
       "(tensor([30., 31., 32., 33., 34., 35., 36., 37., 38., 39., 40., 41.]),\n",
       " torch.Size([12]))"
      ]
     },
     "execution_count": 167,
     "metadata": {},
     "output_type": "execute_result"
    }
   ],
   "source": [
    "p=torch.arange(30., 42.)\n",
    "p, p.shape"
   ]
  },
  {
   "cell_type": "code",
   "execution_count": 168,
   "metadata": {
    "colab": {
     "base_uri": "https://localhost:8080/"
    },
    "executionInfo": {
     "elapsed": 422,
     "status": "ok",
     "timestamp": 1734294259638,
     "user": {
      "displayName": "Piyush Jharbade",
      "userId": "08295202073884817161"
     },
     "user_tz": -330
    },
    "id": "maVLu1SX9Vq7",
    "outputId": "24b1446d-e787-4e62-a248-43a3c4da8de6"
   },
   "outputs": [
    {
     "data": {
      "text/plain": [
       "(tensor([[30., 31., 32., 33., 34., 35., 36., 37., 38., 39., 40., 41.]]),\n",
       " torch.Size([1, 12]))"
      ]
     },
     "execution_count": 168,
     "metadata": {},
     "output_type": "execute_result"
    }
   ],
   "source": [
    "#change the view\n",
    "p1=p.view(1,12)\n",
    "p1, p1.shape"
   ]
  },
  {
   "cell_type": "code",
   "execution_count": 169,
   "metadata": {
    "colab": {
     "base_uri": "https://localhost:8080/"
    },
    "executionInfo": {
     "elapsed": 420,
     "status": "ok",
     "timestamp": 1734295297009,
     "user": {
      "displayName": "Piyush Jharbade",
      "userId": "08295202073884817161"
     },
     "user_tz": -330
    },
    "id": "STxzfkGf-Re9",
    "outputId": "1384069a-1f16-455c-efd8-788c18157c6e"
   },
   "outputs": [
    {
     "data": {
      "text/plain": [
       "(tensor([ 5., 31., 32., 33., 34., 35., 36., 37., 38., 39., 40., 41.]),\n",
       " tensor([[ 5., 31., 32., 33., 34., 35., 36., 37., 38., 39., 40., 41.]]))"
      ]
     },
     "execution_count": 169,
     "metadata": {},
     "output_type": "execute_result"
    }
   ],
   "source": [
    "p1[:,0] =5\n",
    "p, p1\n",
    "\n",
    "#this means that changing p1 will change p because a view of a tensor shares the same memory as the original input tensor.\n",
    "#i.e. here p1 is the view of p"
   ]
  },
  {
   "cell_type": "markdown",
   "metadata": {
    "id": "7UIXlKx38otg"
   },
   "source": [
    "###* Stacking - combine multiple tensors on top of each other(vstack) or sidebyside\n",
    "\n",
    "in reallity the same elemnts gets stacked"
   ]
  },
  {
   "cell_type": "code",
   "execution_count": 170,
   "metadata": {
    "colab": {
     "base_uri": "https://localhost:8080/"
    },
    "executionInfo": {
     "elapsed": 456,
     "status": "ok",
     "timestamp": 1734295573713,
     "user": {
      "displayName": "Piyush Jharbade",
      "userId": "08295202073884817161"
     },
     "user_tz": -330
    },
    "id": "3Xb1acy28tgu",
    "outputId": "9c6a9a94-7b89-4659-9c40-70291447131d"
   },
   "outputs": [
    {
     "data": {
      "text/plain": [
       "(tensor([[ 5.,  5.,  5.],\n",
       "         [31., 31., 31.],\n",
       "         [32., 32., 32.],\n",
       "         [33., 33., 33.],\n",
       "         [34., 34., 34.],\n",
       "         [35., 35., 35.],\n",
       "         [36., 36., 36.],\n",
       "         [37., 37., 37.],\n",
       "         [38., 38., 38.],\n",
       "         [39., 39., 39.],\n",
       "         [40., 40., 40.],\n",
       "         [41., 41., 41.]]),\n",
       " torch.Size([12, 3]))"
      ]
     },
     "execution_count": 170,
     "metadata": {},
     "output_type": "execute_result"
    }
   ],
   "source": [
    "p_stacked=torch.stack([p,p,p],dim=1) # basically 'dim' is axis(which can take either 0/1 for this example)\n",
    "p_stacked, p_stacked.shape"
   ]
  },
  {
   "cell_type": "markdown",
   "metadata": {
    "id": "Ut6BkeQ38y7A"
   },
   "source": [
    "###*Squeeze - remove all 1 dimensions from a tensor"
   ]
  },
  {
   "cell_type": "code",
   "execution_count": 171,
   "metadata": {
    "colab": {
     "base_uri": "https://localhost:8080/"
    },
    "executionInfo": {
     "elapsed": 443,
     "status": "ok",
     "timestamp": 1734376865336,
     "user": {
      "displayName": "Piyush Jharbade",
      "userId": "08295202073884817161"
     },
     "user_tz": -330
    },
    "id": "wPZ-XKkZ85Sd",
    "outputId": "a4e0c68f-169c-4da0-c047-d525050be152"
   },
   "outputs": [
    {
     "data": {
      "text/plain": [
       "(tensor([[[[[0., 0.]],\n",
       " \n",
       "           [[0., 0.]]]],\n",
       " \n",
       " \n",
       " \n",
       "         [[[[0., 0.]],\n",
       " \n",
       "           [[0., 0.]]]]]),\n",
       " torch.Size([2, 1, 2, 1, 2]))"
      ]
     },
     "execution_count": 171,
     "metadata": {},
     "output_type": "execute_result"
    }
   ],
   "source": [
    "r=torch.zeros(2,1,2,1,2)\n",
    "r, r.size()"
   ]
  },
  {
   "cell_type": "code",
   "execution_count": 172,
   "metadata": {
    "colab": {
     "base_uri": "https://localhost:8080/"
    },
    "executionInfo": {
     "elapsed": 407,
     "status": "ok",
     "timestamp": 1734376868347,
     "user": {
      "displayName": "Piyush Jharbade",
      "userId": "08295202073884817161"
     },
     "user_tz": -330
    },
    "id": "zZlnkt7Q6dn8",
    "outputId": "32ac6f6f-2945-4113-e0ca-efe7d3f7724a"
   },
   "outputs": [
    {
     "data": {
      "text/plain": [
       "(tensor([[[0., 0.],\n",
       "          [0., 0.]],\n",
       " \n",
       "         [[0., 0.],\n",
       "          [0., 0.]]]),\n",
       " torch.Size([2, 2, 2]))"
      ]
     },
     "execution_count": 172,
     "metadata": {},
     "output_type": "execute_result"
    }
   ],
   "source": [
    "r1=torch.squeeze(r)\n",
    "r1, r1.size()"
   ]
  },
  {
   "cell_type": "code",
   "execution_count": 173,
   "metadata": {
    "colab": {
     "base_uri": "https://localhost:8080/"
    },
    "executionInfo": {
     "elapsed": 567,
     "status": "ok",
     "timestamp": 1734377053667,
     "user": {
      "displayName": "Piyush Jharbade",
      "userId": "08295202073884817161"
     },
     "user_tz": -330
    },
    "id": "1O9bEjNW62YW",
    "outputId": "9a7dfb85-47f4-495f-a55a-44d8ed08751f"
   },
   "outputs": [
    {
     "data": {
      "text/plain": [
       "(tensor([ 2,  3,  4,  5,  6,  7,  8,  9, 10, 11, 12, 13]), torch.Size([12]))"
      ]
     },
     "execution_count": 173,
     "metadata": {},
     "output_type": "execute_result"
    }
   ],
   "source": [
    "s=torch.arange(2,14,1)\n",
    "s, s.size()"
   ]
  },
  {
   "cell_type": "code",
   "execution_count": 174,
   "metadata": {
    "colab": {
     "base_uri": "https://localhost:8080/"
    },
    "executionInfo": {
     "elapsed": 415,
     "status": "ok",
     "timestamp": 1734377192617,
     "user": {
      "displayName": "Piyush Jharbade",
      "userId": "08295202073884817161"
     },
     "user_tz": -330
    },
    "id": "8URe5OUM7KXt",
    "outputId": "bcc035f8-56ca-49f5-995e-10b6822a29d0"
   },
   "outputs": [
    {
     "data": {
      "text/plain": [
       "(tensor([[[[ 2,  3,  4,  5]],\n",
       " \n",
       "          [[ 6,  7,  8,  9]],\n",
       " \n",
       "          [[10, 11, 12, 13]]]]),\n",
       " torch.Size([1, 3, 1, 4]))"
      ]
     },
     "execution_count": 174,
     "metadata": {},
     "output_type": "execute_result"
    }
   ],
   "source": [
    "s1=s.reshape(1,3,1,4)\n",
    "s1, s1.size()"
   ]
  },
  {
   "cell_type": "code",
   "execution_count": 175,
   "metadata": {
    "colab": {
     "base_uri": "https://localhost:8080/"
    },
    "executionInfo": {
     "elapsed": 437,
     "status": "ok",
     "timestamp": 1734377175155,
     "user": {
      "displayName": "Piyush Jharbade",
      "userId": "08295202073884817161"
     },
     "user_tz": -330
    },
    "id": "H8cpGh9d7vEV",
    "outputId": "4f3fbbe8-22e8-466b-b1fb-1fa2debf58d3"
   },
   "outputs": [
    {
     "data": {
      "text/plain": [
       "(tensor([[ 2,  3,  4,  5],\n",
       "         [ 6,  7,  8,  9],\n",
       "         [10, 11, 12, 13]]),\n",
       " torch.Size([3, 4]))"
      ]
     },
     "execution_count": 175,
     "metadata": {},
     "output_type": "execute_result"
    }
   ],
   "source": [
    "s2=torch.squeeze(s1)\n",
    "s2, s2.size()"
   ]
  },
  {
   "cell_type": "markdown",
   "metadata": {
    "id": "vNFVG-oI8514"
   },
   "source": [
    "### * Unsqueez- add a 1 dimension to a target tensor"
   ]
  },
  {
   "cell_type": "code",
   "execution_count": 176,
   "metadata": {
    "colab": {
     "base_uri": "https://localhost:8080/"
    },
    "executionInfo": {
     "elapsed": 475,
     "status": "ok",
     "timestamp": 1734377361603,
     "user": {
      "displayName": "Piyush Jharbade",
      "userId": "08295202073884817161"
     },
     "user_tz": -330
    },
    "id": "G27niP_k886q",
    "outputId": "36e99a60-727a-43a3-fec3-34f8a0cdcd3f"
   },
   "outputs": [
    {
     "data": {
      "text/plain": [
       "(tensor([[[[ 2,  3,  4,  5]],\n",
       " \n",
       "          [[ 6,  7,  8,  9]],\n",
       " \n",
       "          [[10, 11, 12, 13]]]]),\n",
       " torch.Size([1, 3, 1, 4]))"
      ]
     },
     "execution_count": 176,
     "metadata": {},
     "output_type": "execute_result"
    }
   ],
   "source": [
    "s3=torch.unsqueeze(s2, dim=0)\n",
    "s3=torch.unsqueeze(s3, dim=2)\n",
    "s3, s3.size()"
   ]
  },
  {
   "cell_type": "markdown",
   "metadata": {
    "id": "x1Ps4FGX89xJ"
   },
   "source": [
    "###* Permute - Return a view of the input with dimensions permuted(swapped) in a certain way OR Rearranges the dimensions of a target tensor in a specified order\n",
    "\n"
   ]
  },
  {
   "cell_type": "code",
   "execution_count": 177,
   "metadata": {
    "colab": {
     "base_uri": "https://localhost:8080/"
    },
    "executionInfo": {
     "elapsed": 468,
     "status": "ok",
     "timestamp": 1734377567741,
     "user": {
      "displayName": "Piyush Jharbade",
      "userId": "08295202073884817161"
     },
     "user_tz": -330
    },
    "id": "75-YyiqS8-aO",
    "outputId": "f025f3b4-7643-4828-ff31-b46c60673b6d"
   },
   "outputs": [
    {
     "data": {
      "text/plain": [
       "(tensor([ 4,  5,  6,  7,  8,  9, 10, 11, 12, 13, 14, 15, 16, 17, 18, 19, 20, 21,\n",
       "         22, 23, 24]),\n",
       " torch.Size([21]))"
      ]
     },
     "execution_count": 177,
     "metadata": {},
     "output_type": "execute_result"
    }
   ],
   "source": [
    "u=torch.arange(4,25,1)\n",
    "u, u.size()"
   ]
  },
  {
   "cell_type": "code",
   "execution_count": 178,
   "metadata": {
    "colab": {
     "base_uri": "https://localhost:8080/"
    },
    "executionInfo": {
     "elapsed": 433,
     "status": "ok",
     "timestamp": 1734377644874,
     "user": {
      "displayName": "Piyush Jharbade",
      "userId": "08295202073884817161"
     },
     "user_tz": -330
    },
    "id": "S_sOX1Ni9Lsb",
    "outputId": "3aea9043-9ed9-4136-88da-730d3b032a21"
   },
   "outputs": [
    {
     "data": {
      "text/plain": [
       "(tensor([[[ 4,  5,  6,  7,  8,  9, 10]],\n",
       " \n",
       "         [[11, 12, 13, 14, 15, 16, 17]],\n",
       " \n",
       "         [[18, 19, 20, 21, 22, 23, 24]]]),\n",
       " torch.Size([3, 1, 7]))"
      ]
     },
     "execution_count": 178,
     "metadata": {},
     "output_type": "execute_result"
    }
   ],
   "source": [
    "u1=u.reshape(3,1,7)\n",
    "u1, u1.size()"
   ]
  },
  {
   "cell_type": "code",
   "execution_count": 179,
   "metadata": {
    "colab": {
     "base_uri": "https://localhost:8080/"
    },
    "executionInfo": {
     "elapsed": 425,
     "status": "ok",
     "timestamp": 1734377812001,
     "user": {
      "displayName": "Piyush Jharbade",
      "userId": "08295202073884817161"
     },
     "user_tz": -330
    },
    "id": "dZKkMIUm9nzj",
    "outputId": "8854a358-5f94-40bc-9b7a-8b71f4b6e893"
   },
   "outputs": [
    {
     "data": {
      "text/plain": [
       "(tensor([[[ 4],\n",
       "          [11],\n",
       "          [18]],\n",
       " \n",
       "         [[ 5],\n",
       "          [12],\n",
       "          [19]],\n",
       " \n",
       "         [[ 6],\n",
       "          [13],\n",
       "          [20]],\n",
       " \n",
       "         [[ 7],\n",
       "          [14],\n",
       "          [21]],\n",
       " \n",
       "         [[ 8],\n",
       "          [15],\n",
       "          [22]],\n",
       " \n",
       "         [[ 9],\n",
       "          [16],\n",
       "          [23]],\n",
       " \n",
       "         [[10],\n",
       "          [17],\n",
       "          [24]]]),\n",
       " torch.Size([7, 3, 1]))"
      ]
     },
     "execution_count": 179,
     "metadata": {},
     "output_type": "execute_result"
    }
   ],
   "source": [
    "u2=torch.permute(u1, (2,0,1)) #the bracket values are the dimension values(i.e we are swapping the dimensions within the tensor)\n",
    "u2, u2.size()"
   ]
  },
  {
   "cell_type": "code",
   "execution_count": 180,
   "metadata": {
    "colab": {
     "base_uri": "https://localhost:8080/"
    },
    "executionInfo": {
     "elapsed": 417,
     "status": "ok",
     "timestamp": 1734382825017,
     "user": {
      "displayName": "Piyush Jharbade",
      "userId": "08295202073884817161"
     },
     "user_tz": -330
    },
    "id": "n2sLlYOm96ue",
    "outputId": "2d83bd85-c1c3-462a-f4a0-87d2c895b851"
   },
   "outputs": [
    {
     "data": {
      "text/plain": [
       "(tensor([[[0.6667, 0.7343, 0.0269],\n",
       "          [0.0212, 0.4932, 0.2510],\n",
       "          [0.0633, 0.1027, 0.6681],\n",
       "          ...,\n",
       "          [0.6105, 0.5679, 0.5515],\n",
       "          [0.5515, 0.1393, 0.2148],\n",
       "          [0.9872, 0.7008, 0.3035]],\n",
       " \n",
       "         [[0.6662, 0.5694, 0.1247],\n",
       "          [0.9667, 0.0462, 0.3192],\n",
       "          [0.9914, 0.9953, 0.6776],\n",
       "          ...,\n",
       "          [0.1243, 0.8436, 0.9420],\n",
       "          [0.8903, 0.0321, 0.5744],\n",
       "          [0.2833, 0.5610, 0.0594]],\n",
       " \n",
       "         [[0.0600, 0.2181, 0.9233],\n",
       "          [0.8314, 0.1347, 0.7113],\n",
       "          [0.4737, 0.7764, 0.5249],\n",
       "          ...,\n",
       "          [0.1910, 0.8847, 0.9253],\n",
       "          [0.0778, 0.9220, 0.7950],\n",
       "          [0.5255, 0.3295, 0.5828]],\n",
       " \n",
       "         ...,\n",
       " \n",
       "         [[0.8877, 0.5367, 0.6399],\n",
       "          [0.3294, 0.1963, 0.9483],\n",
       "          [0.2470, 0.8325, 0.5273],\n",
       "          ...,\n",
       "          [0.2795, 0.8615, 0.7017],\n",
       "          [0.2638, 0.4948, 0.0876],\n",
       "          [0.2134, 0.8163, 0.8794]],\n",
       " \n",
       "         [[0.1934, 0.8504, 0.3112],\n",
       "          [0.0127, 0.7996, 0.4067],\n",
       "          [0.8455, 0.2051, 0.3337],\n",
       "          ...,\n",
       "          [0.4119, 0.6746, 0.3951],\n",
       "          [0.4558, 0.2482, 0.2667],\n",
       "          [0.2869, 0.8564, 0.0612]],\n",
       " \n",
       "         [[0.3531, 0.2036, 0.2499],\n",
       "          [0.6187, 0.9383, 0.1982],\n",
       "          [0.9975, 0.5550, 0.8387],\n",
       "          ...,\n",
       "          [0.4556, 0.9597, 0.3513],\n",
       "          [0.6020, 0.8223, 0.1340],\n",
       "          [0.0487, 0.5276, 0.2821]]]),\n",
       " torch.Size([224, 224, 3]))"
      ]
     },
     "execution_count": 180,
     "metadata": {},
     "output_type": "execute_result"
    }
   ],
   "source": [
    "#we usually apply permute on images\n",
    "v=torch.rand(size=(224, 224,3), dtype=torch.float32) #here (height, width, color_channels\n",
    "v, v.size()"
   ]
  },
  {
   "cell_type": "code",
   "execution_count": 181,
   "metadata": {
    "colab": {
     "base_uri": "https://localhost:8080/"
    },
    "executionInfo": {
     "elapsed": 485,
     "status": "ok",
     "timestamp": 1734382829118,
     "user": {
      "displayName": "Piyush Jharbade",
      "userId": "08295202073884817161"
     },
     "user_tz": -330
    },
    "id": "udujctyDNmTI",
    "outputId": "1c4cc6b1-9352-4e93-e5cc-4e1ecb1f4226"
   },
   "outputs": [
    {
     "data": {
      "text/plain": [
       "(tensor([[[0.6667, 0.7343, 0.0269],\n",
       "          [0.0212, 0.4932, 0.2510],\n",
       "          [0.0633, 0.1027, 0.6681],\n",
       "          ...,\n",
       "          [0.6105, 0.5679, 0.5515],\n",
       "          [0.5515, 0.1393, 0.2148],\n",
       "          [0.9872, 0.7008, 0.3035]],\n",
       " \n",
       "         [[0.6662, 0.5694, 0.1247],\n",
       "          [0.9667, 0.0462, 0.3192],\n",
       "          [0.9914, 0.9953, 0.6776],\n",
       "          ...,\n",
       "          [0.1243, 0.8436, 0.9420],\n",
       "          [0.8903, 0.0321, 0.5744],\n",
       "          [0.2833, 0.5610, 0.0594]],\n",
       " \n",
       "         [[0.0600, 0.2181, 0.9233],\n",
       "          [0.8314, 0.1347, 0.7113],\n",
       "          [0.4737, 0.7764, 0.5249],\n",
       "          ...,\n",
       "          [0.1910, 0.8847, 0.9253],\n",
       "          [0.0778, 0.9220, 0.7950],\n",
       "          [0.5255, 0.3295, 0.5828]],\n",
       " \n",
       "         ...,\n",
       " \n",
       "         [[0.8877, 0.5367, 0.6399],\n",
       "          [0.3294, 0.1963, 0.9483],\n",
       "          [0.2470, 0.8325, 0.5273],\n",
       "          ...,\n",
       "          [0.2795, 0.8615, 0.7017],\n",
       "          [0.2638, 0.4948, 0.0876],\n",
       "          [0.2134, 0.8163, 0.8794]],\n",
       " \n",
       "         [[0.1934, 0.8504, 0.3112],\n",
       "          [0.0127, 0.7996, 0.4067],\n",
       "          [0.8455, 0.2051, 0.3337],\n",
       "          ...,\n",
       "          [0.4119, 0.6746, 0.3951],\n",
       "          [0.4558, 0.2482, 0.2667],\n",
       "          [0.2869, 0.8564, 0.0612]],\n",
       " \n",
       "         [[0.3531, 0.2036, 0.2499],\n",
       "          [0.6187, 0.9383, 0.1982],\n",
       "          [0.9975, 0.5550, 0.8387],\n",
       "          ...,\n",
       "          [0.4556, 0.9597, 0.3513],\n",
       "          [0.6020, 0.8223, 0.1340],\n",
       "          [0.0487, 0.5276, 0.2821]]]),\n",
       " torch.Size([224, 224, 3]))"
      ]
     },
     "execution_count": 181,
     "metadata": {},
     "output_type": "execute_result"
    }
   ],
   "source": [
    "v1=torch.squeeze(v) #this will have no effect because no 1-dimension in the tensor\n",
    "v1, v1.size()"
   ]
  },
  {
   "cell_type": "code",
   "execution_count": 182,
   "metadata": {
    "colab": {
     "base_uri": "https://localhost:8080/"
    },
    "executionInfo": {
     "elapsed": 429,
     "status": "ok",
     "timestamp": 1734382836008,
     "user": {
      "displayName": "Piyush Jharbade",
      "userId": "08295202073884817161"
     },
     "user_tz": -330
    },
    "id": "DenKHw36PDqE",
    "outputId": "6118e69e-7232-40fd-a670-daa9e12e9574"
   },
   "outputs": [
    {
     "data": {
      "text/plain": [
       "(tensor([[[0.6667, 0.0212, 0.0633,  ..., 0.6105, 0.5515, 0.9872],\n",
       "          [0.6662, 0.9667, 0.9914,  ..., 0.1243, 0.8903, 0.2833],\n",
       "          [0.0600, 0.8314, 0.4737,  ..., 0.1910, 0.0778, 0.5255],\n",
       "          ...,\n",
       "          [0.8877, 0.3294, 0.2470,  ..., 0.2795, 0.2638, 0.2134],\n",
       "          [0.1934, 0.0127, 0.8455,  ..., 0.4119, 0.4558, 0.2869],\n",
       "          [0.3531, 0.6187, 0.9975,  ..., 0.4556, 0.6020, 0.0487]],\n",
       " \n",
       "         [[0.7343, 0.4932, 0.1027,  ..., 0.5679, 0.1393, 0.7008],\n",
       "          [0.5694, 0.0462, 0.9953,  ..., 0.8436, 0.0321, 0.5610],\n",
       "          [0.2181, 0.1347, 0.7764,  ..., 0.8847, 0.9220, 0.3295],\n",
       "          ...,\n",
       "          [0.5367, 0.1963, 0.8325,  ..., 0.8615, 0.4948, 0.8163],\n",
       "          [0.8504, 0.7996, 0.2051,  ..., 0.6746, 0.2482, 0.8564],\n",
       "          [0.2036, 0.9383, 0.5550,  ..., 0.9597, 0.8223, 0.5276]],\n",
       " \n",
       "         [[0.0269, 0.2510, 0.6681,  ..., 0.5515, 0.2148, 0.3035],\n",
       "          [0.1247, 0.3192, 0.6776,  ..., 0.9420, 0.5744, 0.0594],\n",
       "          [0.9233, 0.7113, 0.5249,  ..., 0.9253, 0.7950, 0.5828],\n",
       "          ...,\n",
       "          [0.6399, 0.9483, 0.5273,  ..., 0.7017, 0.0876, 0.8794],\n",
       "          [0.3112, 0.4067, 0.3337,  ..., 0.3951, 0.2667, 0.0612],\n",
       "          [0.2499, 0.1982, 0.8387,  ..., 0.3513, 0.1340, 0.2821]]]),\n",
       " torch.Size([3, 224, 224]))"
      ]
     },
     "execution_count": 182,
     "metadata": {},
     "output_type": "execute_result"
    }
   ],
   "source": [
    "v2=torch.permute(v,(2,0,1)) #here (color_channels, height, width)\n",
    "v2, v2.shape"
   ]
  },
  {
   "cell_type": "code",
   "execution_count": 183,
   "metadata": {
    "colab": {
     "base_uri": "https://localhost:8080/"
    },
    "executionInfo": {
     "elapsed": 452,
     "status": "ok",
     "timestamp": 1734383364931,
     "user": {
      "displayName": "Piyush Jharbade",
      "userId": "08295202073884817161"
     },
     "user_tz": -330
    },
    "id": "84HpaR_WPdxB",
    "outputId": "f1b8853c-e54a-437d-c13f-664afd92f49b"
   },
   "outputs": [
    {
     "data": {
      "text/plain": [
       "(tensor([[[146,   4,   3],\n",
       "          [210,  95,  99],\n",
       "          [232,  82, 216],\n",
       "          ...,\n",
       "          [110, 214, 118],\n",
       "          [ 10, 210, 175],\n",
       "          [ 40, 224,  73]],\n",
       " \n",
       "         [[ 16, 145,  59],\n",
       "          [ 36,  54, 135],\n",
       "          [243,  45, 204],\n",
       "          ...,\n",
       "          [181,  35, 133],\n",
       "          [ 10, 155,  17],\n",
       "          [184, 158, 217]],\n",
       " \n",
       "         [[  8, 176,  36],\n",
       "          [113,   7,  27],\n",
       "          [247,  43,  78],\n",
       "          ...,\n",
       "          [247,  38, 205],\n",
       "          [130,  62, 233],\n",
       "          [  3, 150, 228]],\n",
       " \n",
       "         ...,\n",
       " \n",
       "         [[ 18,  12, 205],\n",
       "          [204,  60, 254],\n",
       "          [220, 180,  22],\n",
       "          ...,\n",
       "          [124,  21,  77],\n",
       "          [237, 218, 210],\n",
       "          [ 21,  16, 160]],\n",
       " \n",
       "         [[ 54, 171, 127],\n",
       "          [ 82,  95,  33],\n",
       "          [202,  97, 123],\n",
       "          ...,\n",
       "          [218, 215, 137],\n",
       "          [189,  50,  11],\n",
       "          [ 62, 194, 164]],\n",
       " \n",
       "         [[122, 233, 125],\n",
       "          [105, 182,  77],\n",
       "          [ 48,  27, 188],\n",
       "          ...,\n",
       "          [111, 183, 219],\n",
       "          [ 96,  40,  78],\n",
       "          [ 61, 221, 109]]], dtype=torch.uint8),\n",
       " torch.Size([256, 256, 3]))"
      ]
     },
     "execution_count": 183,
     "metadata": {},
     "output_type": "execute_result"
    }
   ],
   "source": [
    "v4 = (torch.rand(256, 256, 3) * 255).to(torch.uint8)\n",
    "v4, v4.shape\n"
   ]
  },
  {
   "cell_type": "markdown",
   "metadata": {
    "id": "DTeDviDQVFZp"
   },
   "source": [
    "#Indexing in pytorch is same as Indexing in numpy"
   ]
  },
  {
   "cell_type": "code",
   "execution_count": 184,
   "metadata": {
    "colab": {
     "base_uri": "https://localhost:8080/"
    },
    "executionInfo": {
     "elapsed": 1696,
     "status": "ok",
     "timestamp": 1734384020840,
     "user": {
      "displayName": "Piyush Jharbade",
      "userId": "08295202073884817161"
     },
     "user_tz": -330
    },
    "id": "KCs2k1vNSBgF",
    "outputId": "0bdd3d79-7e75-4926-8ebe-03eee0ef4b36"
   },
   "outputs": [
    {
     "data": {
      "text/plain": [
       "(tensor([[[1, 2, 3],\n",
       "          [4, 5, 6],\n",
       "          [7, 8, 9]]]),\n",
       " torch.Size([1, 3, 3]))"
      ]
     },
     "execution_count": 184,
     "metadata": {},
     "output_type": "execute_result"
    }
   ],
   "source": [
    "w = torch.arange(1,10).reshape(1,3,3)\n",
    "w,w.shape"
   ]
  },
  {
   "cell_type": "code",
   "execution_count": 185,
   "metadata": {
    "colab": {
     "base_uri": "https://localhost:8080/"
    },
    "executionInfo": {
     "elapsed": 3,
     "status": "ok",
     "timestamp": 1734384024202,
     "user": {
      "displayName": "Piyush Jharbade",
      "userId": "08295202073884817161"
     },
     "user_tz": -330
    },
    "id": "XINczRHqTzAD",
    "outputId": "f46a06e5-fb2c-481c-aa87-a8adc7f292b8"
   },
   "outputs": [
    {
     "data": {
      "text/plain": [
       "tensor([[[ 1, 24,  3],\n",
       "         [ 4,  5,  6],\n",
       "         [ 7,  8,  9]]])"
      ]
     },
     "execution_count": 185,
     "metadata": {},
     "output_type": "execute_result"
    }
   ],
   "source": [
    "w[0][0][1]=24\n",
    "w"
   ]
  },
  {
   "cell_type": "code",
   "execution_count": 186,
   "metadata": {
    "colab": {
     "base_uri": "https://localhost:8080/"
    },
    "executionInfo": {
     "elapsed": 472,
     "status": "ok",
     "timestamp": 1734384307221,
     "user": {
      "displayName": "Piyush Jharbade",
      "userId": "08295202073884817161"
     },
     "user_tz": -330
    },
    "id": "8yvyop2IV6ff",
    "outputId": "fcd258ad-2294-4a67-ea5f-95a8c3a0a42b"
   },
   "outputs": [
    {
     "data": {
      "text/plain": [
       "(tensor([[3, 6, 9]]), tensor(6), tensor(6))"
      ]
     },
     "execution_count": 186,
     "metadata": {},
     "output_type": "execute_result"
    }
   ],
   "source": [
    "w[:,:,2], w[0,1,2], w[0][1][2]"
   ]
  },
  {
   "cell_type": "markdown",
   "metadata": {
    "id": "jIGHCZV_ZnU6"
   },
   "source": [
    "##Pytorch tensors & Numpy\n",
    "\n",
    "Pytorch has functionality to interact with numpy\n",
    "\n",
    "* Data in numpy, want in pytorch tensor-> `torch.from_numpy(ndarray_name)`\n",
    "\n",
    "* Data in pytorch tensor, want in numpy array-> `torch.Tensor.numpy()`"
   ]
  },
  {
   "cell_type": "code",
   "execution_count": 187,
   "metadata": {
    "colab": {
     "base_uri": "https://localhost:8080/"
    },
    "executionInfo": {
     "elapsed": 407,
     "status": "ok",
     "timestamp": 1734549227054,
     "user": {
      "displayName": "Piyush Jharbade",
      "userId": "08295202073884817161"
     },
     "user_tz": -330
    },
    "id": "7Qmms5STaWHr",
    "outputId": "9783663a-e95a-4060-c5d2-fca2fb86485b"
   },
   "outputs": [
    {
     "data": {
      "text/plain": [
       "(array([1., 2., 3., 4., 5., 6., 7.]),\n",
       " tensor([1., 2., 3., 4., 5., 6., 7.], dtype=torch.float64))"
      ]
     },
     "execution_count": 187,
     "metadata": {},
     "output_type": "execute_result"
    }
   ],
   "source": [
    "import torch\n",
    "import numpy as np\n",
    "array = np.arange(1.0, 8.0)\n",
    "tensor = torch.from_numpy(array)\n",
    "array, tensor"
   ]
  },
  {
   "cell_type": "markdown",
   "metadata": {
    "id": "P-kqno-dMNMP"
   },
   "source": [
    "###Note: By default, NumPy arrays are created with the default datatype of float64 and if you convert it to a PyTorch tensor, it'll keep the same datatype (i.e float64).\n",
    "\n",
    "###However, many PyTorch calculations outputs arr by default in float32.\n",
    "\n",
    "So if you want to convert your NumPy array (float64) -> PyTorch tensor (float64) -> PyTorch tensor (float32), you can use tensor = torch.from_numpy(array).type(torch.float32).\n",
    "\n",
    "Because we reassigned tensor above, if you change the tensor, the array stays the same.\n",
    "\n",
    "\n",
    "[ ]\n"
   ]
  },
  {
   "cell_type": "code",
   "execution_count": 188,
   "metadata": {
    "colab": {
     "base_uri": "https://localhost:8080/"
    },
    "executionInfo": {
     "elapsed": 402,
     "status": "ok",
     "timestamp": 1734549316998,
     "user": {
      "displayName": "Piyush Jharbade",
      "userId": "08295202073884817161"
     },
     "user_tz": -330
    },
    "id": "3TGQX-RyMerN",
    "outputId": "61951728-325b-4a8f-efdb-28301548bb63"
   },
   "outputs": [
    {
     "data": {
      "text/plain": [
       "(array([2., 3., 4., 5., 6., 7., 8.]),\n",
       " tensor([1., 2., 3., 4., 5., 6., 7.], dtype=torch.float64))"
      ]
     },
     "execution_count": 188,
     "metadata": {},
     "output_type": "execute_result"
    }
   ],
   "source": [
    "array = array + 1\n",
    "array, tensor"
   ]
  },
  {
   "cell_type": "markdown",
   "metadata": {
    "id": "nmjCTP9cMniZ"
   },
   "source": [
    "###And if you want to go from PyTorch tensor to NumPy array, you can call `tensor.numpy()`.\n"
   ]
  },
  {
   "cell_type": "code",
   "execution_count": 189,
   "metadata": {
    "colab": {
     "base_uri": "https://localhost:8080/"
    },
    "executionInfo": {
     "elapsed": 7,
     "status": "ok",
     "timestamp": 1734549430566,
     "user": {
      "displayName": "Piyush Jharbade",
      "userId": "08295202073884817161"
     },
     "user_tz": -330
    },
    "id": "IXJS6Hs2MiGI",
    "outputId": "9da3933d-5302-46b9-9023-c0e6fef5a839"
   },
   "outputs": [
    {
     "data": {
      "text/plain": [
       "(tensor([1., 1., 1., 1., 1., 1., 1.]),\n",
       " array([1., 1., 1., 1., 1., 1., 1.], dtype=float32))"
      ]
     },
     "execution_count": 189,
     "metadata": {},
     "output_type": "execute_result"
    }
   ],
   "source": [
    "# Tensor to NumPy array\n",
    "tensor = torch.ones(7) # create a tensor of ones with dtype=float32\n",
    "numpy_tensor = tensor.numpy() # will be dtype=float32 unless changed\n",
    "tensor, numpy_tensor"
   ]
  },
  {
   "cell_type": "code",
   "execution_count": 190,
   "metadata": {
    "colab": {
     "base_uri": "https://localhost:8080/"
    },
    "executionInfo": {
     "elapsed": 404,
     "status": "ok",
     "timestamp": 1734549479491,
     "user": {
      "displayName": "Piyush Jharbade",
      "userId": "08295202073884817161"
     },
     "user_tz": -330
    },
    "id": "mMp6ZSkET4_Y",
    "outputId": "cf0bf100-5adc-438e-b48b-1447b2f41797"
   },
   "outputs": [
    {
     "data": {
      "text/plain": [
       "(tensor([2., 2., 2., 2., 2., 2., 2.]),\n",
       " array([1., 1., 1., 1., 1., 1., 1.], dtype=float32))"
      ]
     },
     "execution_count": 190,
     "metadata": {},
     "output_type": "execute_result"
    }
   ],
   "source": [
    "# Change the tensor, keep the array the same\n",
    "tensor = tensor + 1\n",
    "tensor, numpy_tensor"
   ]
  },
  {
   "cell_type": "code",
   "execution_count": null,
   "metadata": {
    "id": "F_xKKVaaNJxE"
   },
   "outputs": [],
   "source": []
  },
  {
   "cell_type": "markdown",
   "metadata": {
    "id": "X3V8P-SiUBfz"
   },
   "source": [
    "#GPU acces"
   ]
  },
  {
   "cell_type": "code",
   "execution_count": 191,
   "metadata": {
    "colab": {
     "base_uri": "https://localhost:8080/"
    },
    "executionInfo": {
     "elapsed": 568,
     "status": "ok",
     "timestamp": 1734551294752,
     "user": {
      "displayName": "Piyush Jharbade",
      "userId": "08295202073884817161"
     },
     "user_tz": -330
    },
    "id": "xetQO1XkUA0k",
    "outputId": "e6029d80-f698-4024-cd6d-03105635db5e"
   },
   "outputs": [
    {
     "name": "stdout",
     "output_type": "stream",
     "text": [
      "Sat Dec 28 15:09:29 2024       \n",
      "+-----------------------------------------------------------------------------------------+\n",
      "| NVIDIA-SMI 566.36                 Driver Version: 566.36         CUDA Version: 12.7     |\n",
      "|-----------------------------------------+------------------------+----------------------+\n",
      "| GPU  Name                  Driver-Model | Bus-Id          Disp.A | Volatile Uncorr. ECC |\n",
      "| Fan  Temp   Perf          Pwr:Usage/Cap |           Memory-Usage | GPU-Util  Compute M. |\n",
      "|                                         |                        |               MIG M. |\n",
      "|=========================================+========================+======================|\n",
      "|   0  NVIDIA GeForce GTX 1650 ...  WDDM  |   00000000:01:00.0 Off |                  N/A |\n",
      "| N/A   37C    P8              3W /   30W |       0MiB /   4096MiB |      0%      Default |\n",
      "|                                         |                        |                  N/A |\n",
      "+-----------------------------------------+------------------------+----------------------+\n",
      "                                                                                         \n",
      "+-----------------------------------------------------------------------------------------+\n",
      "| Processes:                                                                              |\n",
      "|  GPU   GI   CI        PID   Type   Process name                              GPU Memory |\n",
      "|        ID   ID                                                               Usage      |\n",
      "|=========================================================================================|\n",
      "|  No running processes found                                                             |\n",
      "+-----------------------------------------------------------------------------------------+\n"
     ]
    }
   ],
   "source": [
    "!nvidia-smi"
   ]
  },
  {
   "cell_type": "code",
   "execution_count": 192,
   "metadata": {
    "colab": {
     "base_uri": "https://localhost:8080/"
    },
    "executionInfo": {
     "elapsed": 3884,
     "status": "ok",
     "timestamp": 1734551426757,
     "user": {
      "displayName": "Piyush Jharbade",
      "userId": "08295202073884817161"
     },
     "user_tz": -330
    },
    "id": "CJhyU_OrUE3T",
    "outputId": "61d94175-a0f7-4037-87fa-0471e93c08e0"
   },
   "outputs": [
    {
     "data": {
      "text/plain": [
       "True"
      ]
     },
     "execution_count": 192,
     "metadata": {},
     "output_type": "execute_result"
    }
   ],
   "source": [
    "import torch\n",
    "torch.cuda.is_available()"
   ]
  },
  {
   "cell_type": "code",
   "execution_count": null,
   "metadata": {
    "id": "QaWHAFH4UkSK"
   },
   "outputs": [],
   "source": []
  }
 ],
 "metadata": {
  "colab": {
   "authorship_tag": "ABX9TyO7HBpmGgnwJpH7st0wzDb7",
   "collapsed_sections": [
    "55ua2fUowQ4J",
    "046HgB1skWXv",
    "rqLyrv2YwOau",
    "qHdX9BRY8UHs",
    "L220xiSz8gkP"
   ],
   "provenance": []
  },
  "kernelspec": {
   "display_name": "Python 3 (ipykernel)",
   "language": "python",
   "name": "python3"
  },
  "language_info": {
   "codemirror_mode": {
    "name": "ipython",
    "version": 3
   },
   "file_extension": ".py",
   "mimetype": "text/x-python",
   "name": "python",
   "nbconvert_exporter": "python",
   "pygments_lexer": "ipython3",
   "version": "3.12.6"
  }
 },
 "nbformat": 4,
 "nbformat_minor": 4
}
