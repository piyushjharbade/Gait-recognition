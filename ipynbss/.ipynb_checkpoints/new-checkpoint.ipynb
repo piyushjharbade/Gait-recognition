{
 "cells": [
  {
   "cell_type": "code",
   "execution_count": 2,
   "id": "0ea94899-7673-4030-89a9-d20d45453089",
   "metadata": {},
   "outputs": [
    {
     "name": "stdout",
     "output_type": "stream",
     "text": [
      "Thu Jan  2 14:54:15 2025       \n",
      "+-----------------------------------------------------------------------------------------+\n",
      "| NVIDIA-SMI 566.36                 Driver Version: 566.36         CUDA Version: 12.7     |\n",
      "|-----------------------------------------+------------------------+----------------------+\n",
      "| GPU  Name                  Driver-Model | Bus-Id          Disp.A | Volatile Uncorr. ECC |\n",
      "| Fan  Temp   Perf          Pwr:Usage/Cap |           Memory-Usage | GPU-Util  Compute M. |\n",
      "|                                         |                        |               MIG M. |\n",
      "|=========================================+========================+======================|\n",
      "|   0  NVIDIA GeForce GTX 1650 ...  WDDM  |   00000000:01:00.0 Off |                  N/A |\n",
      "| N/A   41C    P8              1W /   35W |     217MiB /   4096MiB |      0%      Default |\n",
      "|                                         |                        |                  N/A |\n",
      "+-----------------------------------------+------------------------+----------------------+\n",
      "                                                                                         \n",
      "+-----------------------------------------------------------------------------------------+\n",
      "| Processes:                                                                              |\n",
      "|  GPU   GI   CI        PID   Type   Process name                              GPU Memory |\n",
      "|        ID   ID                                                               Usage      |\n",
      "|=========================================================================================|\n",
      "|    0   N/A  N/A     11900      C   ...rograms\\Python\\Python312\\python.exe      N/A      |\n",
      "+-----------------------------------------------------------------------------------------+\n"
     ]
    }
   ],
   "source": [
    "!nvidia-smi"
   ]
  },
  {
   "cell_type": "code",
   "execution_count": 4,
   "id": "d4693ab5-fa7a-418a-8768-39fb1ce32124",
   "metadata": {},
   "outputs": [],
   "source": [
    "import torch"
   ]
  },
  {
   "cell_type": "code",
   "execution_count": 5,
   "id": "cd58ccd5-615e-443d-b88a-6c1cd2d617cf",
   "metadata": {},
   "outputs": [
    {
     "data": {
      "text/plain": [
       "'cuda'"
      ]
     },
     "execution_count": 5,
     "metadata": {},
     "output_type": "execute_result"
    }
   ],
   "source": [
    "device = 'cuda' if torch.cuda.is_available() else \"cpu\"\n",
    "device"
   ]
  },
  {
   "cell_type": "code",
   "execution_count": 6,
   "id": "71e60258-c31b-41cf-bf99-709c2bb232ba",
   "metadata": {},
   "outputs": [
    {
     "data": {
      "text/plain": [
       "1"
      ]
     },
     "execution_count": 6,
     "metadata": {},
     "output_type": "execute_result"
    }
   ],
   "source": [
    "torch.cuda.device_count()"
   ]
  },
  {
   "cell_type": "code",
   "execution_count": 10,
   "id": "18bd747d-f3aa-4cb3-a92f-12c402df42d9",
   "metadata": {},
   "outputs": [
    {
     "name": "stdout",
     "output_type": "stream",
     "text": [
      "tensor([1, 2, 3, 4]) cpu\n"
     ]
    },
    {
     "data": {
      "text/plain": [
       "tensor([1, 2, 3, 4], device='cuda:0')"
      ]
     },
     "execution_count": 10,
     "metadata": {},
     "output_type": "execute_result"
    }
   ],
   "source": [
    "T=torch.tensor([1,2,3,4])\n",
    "print(T, T.device)\n",
    "t_on_GPU = T.to(device)\n",
    "t_on_GPU"
   ]
  },
  {
   "cell_type": "code",
   "execution_count": 11,
   "id": "d523e5fa-8005-4dfe-89a3-c30f47a42766",
   "metadata": {},
   "outputs": [
    {
     "data": {
      "text/plain": [
       "'2.5.1+cu124'"
      ]
     },
     "execution_count": 11,
     "metadata": {},
     "output_type": "execute_result"
    }
   ],
   "source": [
    "from torch import nn\n",
    "import matplotlib.pyplot as plt\n",
    "\n",
    "torch.__version__"
   ]
  },
  {
   "cell_type": "code",
   "execution_count": 13,
   "id": "93bec861-4509-4e5a-9803-066e75f21bd5",
   "metadata": {},
   "outputs": [
    {
     "data": {
      "text/plain": [
       "(tensor([0.0000, 0.0300, 0.0600, 0.0900, 0.1200, 0.1500, 0.1800, 0.2100, 0.2400,\n",
       "         0.2700, 0.3000, 0.3300, 0.3600, 0.3900, 0.4200, 0.4500, 0.4800, 0.5100,\n",
       "         0.5400, 0.5700, 0.6000, 0.6300, 0.6600, 0.6900, 0.7200, 0.7500, 0.7800,\n",
       "         0.8100, 0.8400, 0.8700, 0.9000, 0.9300, 0.9600, 0.9900]),\n",
       " tensor([[0.0000],\n",
       "         [0.0300],\n",
       "         [0.0600],\n",
       "         [0.0900],\n",
       "         [0.1200],\n",
       "         [0.1500],\n",
       "         [0.1800],\n",
       "         [0.2100],\n",
       "         [0.2400],\n",
       "         [0.2700],\n",
       "         [0.3000],\n",
       "         [0.3300],\n",
       "         [0.3600],\n",
       "         [0.3900],\n",
       "         [0.4200],\n",
       "         [0.4500],\n",
       "         [0.4800],\n",
       "         [0.5100],\n",
       "         [0.5400],\n",
       "         [0.5700],\n",
       "         [0.6000],\n",
       "         [0.6300],\n",
       "         [0.6600],\n",
       "         [0.6900],\n",
       "         [0.7200],\n",
       "         [0.7500],\n",
       "         [0.7800],\n",
       "         [0.8100],\n",
       "         [0.8400],\n",
       "         [0.8700],\n",
       "         [0.9000],\n",
       "         [0.9300],\n",
       "         [0.9600],\n",
       "         [0.9900]]))"
      ]
     },
     "execution_count": 13,
     "metadata": {},
     "output_type": "execute_result"
    }
   ],
   "source": [
    "w=0.7\n",
    "b=0.3\n",
    "\n",
    "X=torch.arange(0, 1, 0.03)\n",
    "unsqueezed_X=X.unsqueeze(dim=1)\n",
    "X, unsqueezed_X"
   ]
  },
  {
   "cell_type": "code",
   "execution_count": 15,
   "id": "3d7df9df-10a2-4fbc-acea-9641656284e3",
   "metadata": {},
   "outputs": [
    {
     "data": {
      "text/plain": [
       "tensor([[0.3000],\n",
       "        [0.3210],\n",
       "        [0.3420],\n",
       "        [0.3630],\n",
       "        [0.3840],\n",
       "        [0.4050],\n",
       "        [0.4260],\n",
       "        [0.4470],\n",
       "        [0.4680],\n",
       "        [0.4890],\n",
       "        [0.5100],\n",
       "        [0.5310],\n",
       "        [0.5520],\n",
       "        [0.5730],\n",
       "        [0.5940],\n",
       "        [0.6150],\n",
       "        [0.6360],\n",
       "        [0.6570],\n",
       "        [0.6780],\n",
       "        [0.6990],\n",
       "        [0.7200],\n",
       "        [0.7410],\n",
       "        [0.7620],\n",
       "        [0.7830],\n",
       "        [0.8040],\n",
       "        [0.8250],\n",
       "        [0.8460],\n",
       "        [0.8670],\n",
       "        [0.8880],\n",
       "        [0.9090],\n",
       "        [0.9300],\n",
       "        [0.9510],\n",
       "        [0.9720],\n",
       "        [0.9930]])"
      ]
     },
     "execution_count": 15,
     "metadata": {},
     "output_type": "execute_result"
    }
   ],
   "source": [
    "Y=w*unsqueezed_X+b\n",
    "Y"
   ]
  },
  {
   "cell_type": "code",
   "execution_count": 18,
   "id": "06527d5f-c3ec-4179-8e8e-0fc1aa944ac1",
   "metadata": {},
   "outputs": [
    {
     "data": {
      "text/plain": [
       "(tensor([[0.0000],\n",
       "         [0.0300],\n",
       "         [0.0600],\n",
       "         [0.0900],\n",
       "         [0.1200],\n",
       "         [0.1500],\n",
       "         [0.1800],\n",
       "         [0.2100],\n",
       "         [0.2400],\n",
       "         [0.2700]]),\n",
       " tensor([[0.3000],\n",
       "         [0.3210],\n",
       "         [0.3420],\n",
       "         [0.3630],\n",
       "         [0.3840],\n",
       "         [0.4050],\n",
       "         [0.4260],\n",
       "         [0.4470],\n",
       "         [0.4680],\n",
       "         [0.4890]]))"
      ]
     },
     "execution_count": 18,
     "metadata": {},
     "output_type": "execute_result"
    }
   ],
   "source": [
    "unsqueezed_X[:10], Y[:10]"
   ]
  },
  {
   "cell_type": "code",
   "execution_count": null,
   "id": "11b65ff5-1ec1-42d3-8f22-a49ad88c236a",
   "metadata": {},
   "outputs": [],
   "source": []
  }
 ],
 "metadata": {
  "kernelspec": {
   "display_name": "Python 3 (ipykernel)",
   "language": "python",
   "name": "python3"
  },
  "language_info": {
   "codemirror_mode": {
    "name": "ipython",
    "version": 3
   },
   "file_extension": ".py",
   "mimetype": "text/x-python",
   "name": "python",
   "nbconvert_exporter": "python",
   "pygments_lexer": "ipython3",
   "version": "3.12.6"
  }
 },
 "nbformat": 4,
 "nbformat_minor": 5
}
